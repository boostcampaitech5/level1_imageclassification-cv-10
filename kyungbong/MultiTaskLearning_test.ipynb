{
 "cells": [
  {
   "attachments": {},
   "cell_type": "markdown",
   "id": "about-heavy",
   "metadata": {},
   "source": [
    "## Libarary 불러오기"
   ]
  },
  {
   "cell_type": "code",
   "execution_count": 1,
   "id": "cubic-scoop",
   "metadata": {},
   "outputs": [],
   "source": [
    "import os\n",
    "import pandas as pd\n",
    "from PIL import Image\n",
    "\n",
    "import torch\n",
    "import torch.nn as nn\n",
    "import torch.nn.functional as F\n",
    "from torch.utils.data import Dataset, DataLoader\n",
    "import torch.optim as optim\n",
    "from torchvision import transforms\n",
    "from torchvision.transforms import Resize, ToTensor, Normalize\n",
    "from tqdm import tqdm \n",
    "import glob \n",
    "\n",
    "import matplotlib.pyplot as plt\n",
    "import numpy as np "
   ]
  },
  {
   "attachments": {},
   "cell_type": "markdown",
   "id": "6233b458",
   "metadata": {},
   "source": [
    "## Albumentation (get_transform 정의)"
   ]
  },
  {
   "cell_type": "code",
   "execution_count": 3,
   "id": "7246313c",
   "metadata": {},
   "outputs": [],
   "source": [
    "from albumentations import *\n",
    "from albumentations.pytorch import ToTensorV2\n",
    "\n",
    "def get_transforms(need=('train', 'val'), img_size=(512, 384), mean=(0.548, 0.504, 0.479), std=(0.237, 0.247, 0.246)):\n",
    "    \"\"\"\n",
    "    train 혹은 validation의 augmentation 함수를 정의합니다. train은 데이터에 많은 변형을 주어야하지만, validation에는 최소한의 전처리만 주어져야합니다.\n",
    "    \n",
    "    Args:\n",
    "        need: 'train', 혹은 'val' 혹은 둘 다에 대한 augmentation 함수를 얻을 건지에 대한 옵션입니다.\n",
    "        img_size: Augmentation 이후 얻을 이미지 사이즈입니다.\n",
    "        mean: 이미지를 Normalize할 때 사용될 RGB 평균값입니다.\n",
    "        std: 이미지를 Normalize할 때 사용될 RGB 표준편차입니다.\n",
    "\n",
    "    Returns:\n",
    "        transformations: Augmentation 함수들이 저장된 dictionary 입니다. transformations['train']은 train 데이터에 대한 augmentation 함수가 있습니다.\n",
    "    \"\"\"\n",
    "    transformations = {}\n",
    "    if 'train' in need:\n",
    "        transformations['train'] = Compose([\n",
    "            Resize(img_size[0], img_size[1], p=1.0),\n",
    "            HorizontalFlip(p=0.5),\n",
    "            ShiftScaleRotate(p=0.5),\n",
    "            HueSaturationValue(hue_shift_limit=0.2, sat_shift_limit=0.2, val_shift_limit=0.2, p=0.5),\n",
    "            RandomBrightnessContrast(brightness_limit=(-0.1, 0.1), contrast_limit=(-0.1, 0.1), p=0.5),\n",
    "            GaussNoise(p=0.5),\n",
    "            Normalize(mean=mean, std=std, max_pixel_value=255.0, p=1.0),\n",
    "            ToTensorV2(p=1.0),\n",
    "        ], p=1.0)\n",
    "    if 'val' in need:\n",
    "        transformations['val'] = Compose([\n",
    "            Resize(img_size[0], img_size[1]),\n",
    "            Normalize(mean=mean, std=std, max_pixel_value=255.0, p=1.0),\n",
    "            ToTensorV2(p=1.0),\n",
    "        ], p=1.0)\n",
    "\n",
    "    return transformations"
   ]
  },
  {
   "attachments": {},
   "cell_type": "markdown",
   "id": "03fc7449",
   "metadata": {},
   "source": [
    "## Model 정의"
   ]
  },
  {
   "cell_type": "code",
   "execution_count": 4,
   "id": "5a2a2887",
   "metadata": {},
   "outputs": [],
   "source": [
    "import timm "
   ]
  },
  {
   "cell_type": "code",
   "execution_count": 5,
   "id": "31af52be",
   "metadata": {},
   "outputs": [],
   "source": [
    "device =  torch.device(\"cuda\")\n",
    "model = timm.create_model('resnet50', pretrained=True) # resnet50 "
   ]
  },
  {
   "cell_type": "code",
   "execution_count": 6,
   "id": "ce746fc4",
   "metadata": {},
   "outputs": [
    {
     "data": {
      "text/plain": [
       "{'url': 'https://github.com/rwightman/pytorch-image-models/releases/download/v0.1-rsb-weights/resnet50_a1_0-14fe96d1.pth',\n",
       " 'num_classes': 1000,\n",
       " 'input_size': (3, 224, 224),\n",
       " 'pool_size': (7, 7),\n",
       " 'crop_pct': 0.95,\n",
       " 'interpolation': 'bicubic',\n",
       " 'mean': (0.485, 0.456, 0.406),\n",
       " 'std': (0.229, 0.224, 0.225),\n",
       " 'first_conv': 'conv1',\n",
       " 'classifier': 'fc',\n",
       " 'architecture': 'resnet50'}"
      ]
     },
     "execution_count": 6,
     "metadata": {},
     "output_type": "execute_result"
    }
   ],
   "source": [
    "model.default_cfg"
   ]
  },
  {
   "attachments": {},
   "cell_type": "markdown",
   "id": "0b8221be",
   "metadata": {},
   "source": [
    "## Custom Dataset class (미션 코드)\n",
    "\n",
    "강의 코드랑 다른점은 `__getitem()__` 부분 \n",
    "\n",
    "```python\n",
    "return {'image': image_transform, 'mask': mask_label, 'gender': gender_label, 'age': age_label}\n",
    "```\n",
    "dictionary, label 별로 return "
   ]
  },
  {
   "cell_type": "code",
   "execution_count": 8,
   "id": "6e7a389a",
   "metadata": {},
   "outputs": [],
   "source": [
    "from enum import Enum # 서로 관련이 있는 여러개의 상수의 집합 정의 \n",
    "# .name 이랑 .value 통해서 이름이랑 값 호출 가능 \n",
    "\n",
    "class MaskLabels(int, Enum): \n",
    "    MASK = 0\n",
    "    INCORRECT = 1\n",
    "    NORMAL = 2\n",
    "\n",
    "\n",
    "class GenderLabels(int, Enum):\n",
    "    MALE = 0\n",
    "    FEMALE = 1\n",
    "\n",
    "    @classmethod\n",
    "    def from_str(cls, value: str) -> int:\n",
    "        value = value.lower()\n",
    "        if value == \"male\":\n",
    "            return cls.MALE\n",
    "        elif value == \"female\":\n",
    "            return cls.FEMALE\n",
    "        else:\n",
    "            raise ValueError(f\"Gender value should be either 'male' or 'female', {value}\")\n",
    "\n",
    "\n",
    "class AgeLabels(int, Enum):\n",
    "    YOUNG = 0\n",
    "    MIDDLE = 1\n",
    "    OLD = 2\n",
    "\n",
    "    @classmethod\n",
    "    def from_number(cls, value: str) -> int:\n",
    "        try:\n",
    "            value = int(value)\n",
    "        except Exception:\n",
    "            raise ValueError(f\"Age value should be numeric, {value}\")\n",
    "\n",
    "        if value < 30:\n",
    "            return cls.YOUNG\n",
    "        elif value < 60:\n",
    "            return cls.MIDDLE\n",
    "        else:\n",
    "            return cls.OLD"
   ]
  },
  {
   "cell_type": "code",
   "execution_count": 9,
   "id": "c26c26fd",
   "metadata": {},
   "outputs": [],
   "source": [
    "class MaskBaseDataset(Dataset):\n",
    "    \n",
    "\n",
    "    _file_names = {\n",
    "        \"mask1\": MaskLabels.MASK,\n",
    "        \"mask2\": MaskLabels.MASK,\n",
    "        \"mask3\": MaskLabels.MASK,\n",
    "        \"mask4\": MaskLabels.MASK,\n",
    "        \"mask5\": MaskLabels.MASK,\n",
    "        \"incorrect_mask\": MaskLabels.INCORRECT,\n",
    "        \"normal\": MaskLabels.NORMAL\n",
    "    }\n",
    "\n",
    "    image_paths = []\n",
    "    mask_labels = []\n",
    "    gender_labels = []\n",
    "    age_labels = []\n",
    "\n",
    "    def __init__(self, img_dir, mean, std, transform=None):\n",
    "        \"\"\"\n",
    "        MaskBaseDataset을 initialize 합니다.\n",
    "\n",
    "        Args:\n",
    "            img_dir: 학습 이미지 폴더의 root directory 입니다.\n",
    "            transform: Augmentation을 하는 함수입니다.\n",
    "        \"\"\"\n",
    "        self.img_dir = img_dir\n",
    "        self.mean = mean\n",
    "        self.std = std\n",
    "        self.transform = transform\n",
    "\n",
    "        self.setup()\n",
    "\n",
    "    def set_transform(self, transform):\n",
    "        \"\"\"\n",
    "        transform 함수를 설정하는 함수입니다.\n",
    "        \"\"\"\n",
    "        self.transform = transform\n",
    "        \n",
    "    def setup(self):\n",
    "        \"\"\"\n",
    "        image의 경로와 각 이미지들의 label을 계산하여 저장해두는 함수입니다.\n",
    "        \"\"\"\n",
    "        profiles = os.listdir(self.img_dir)\n",
    "        for profile in profiles:\n",
    "            if profile.startswith(\".\"):  # \".\" 로 시작하는 파일은 무시합니다\n",
    "                continue\n",
    "\n",
    "            img_folder = os.path.join(self.img_dir, profile)\n",
    "            for file_name in os.listdir(img_folder):\n",
    "                _file_name, ext = os.path.splitext(file_name)\n",
    "                if _file_name not in self._file_names:  # \".\" 로 시작하는 파일 및 invalid 한 파일들은 무시합니다\n",
    "                    continue\n",
    "\n",
    "                img_path = os.path.join(self.img_dir, profile, file_name)  # (resized_data, 000004_male_Asian_54, mask1.jpg)\n",
    "                mask_label = self._file_names[_file_name]\n",
    "\n",
    "                id, gender, race, age = profile.split(\"_\")\n",
    "                gender_label = GenderLabels.from_str(gender)\n",
    "                age_label = AgeLabels.from_number(age)\n",
    "\n",
    "                self.image_paths.append(img_path)\n",
    "                self.mask_labels.append(mask_label)\n",
    "                self.gender_labels.append(gender_label)\n",
    "                self.age_labels.append(age_label)\n",
    "\n",
    "    def __getitem__(self, index):\n",
    "        \"\"\"\n",
    "        데이터를 불러오는 함수입니다. \n",
    "        데이터셋 class에 데이터 정보가 저장되어 있고, index를 통해 해당 위치에 있는 데이터 정보를 불러옵니다.\n",
    "        \n",
    "        Args:\n",
    "            index: 불러올 데이터의 인덱스값입니다.\n",
    "        \"\"\"\n",
    "        # 이미지를 불러옵니다.\n",
    "        image_path = self.image_paths[index]\n",
    "        image = Image.open(image_path)\n",
    "        \n",
    "        # 레이블을 불러옵니다.\n",
    "        mask_label = self.mask_labels[index]\n",
    "        gender_label = self.gender_labels[index]\n",
    "        age_label = self.age_labels[index]\n",
    "        multi_class_label = mask_label * 6 + gender_label * 3 + age_label\n",
    "        \n",
    "        # 이미지를 Augmentation 시킵니다.\n",
    "        image_transform = self.transform(image=np.array(image))['image']\n",
    "        return {'image': image_transform, 'mask': mask_label, 'gender': gender_label, 'age': age_label}\n",
    "\n",
    "    def __len__(self):\n",
    "        return len(self.image_paths)"
   ]
  },
  {
   "cell_type": "code",
   "execution_count": 10,
   "id": "5e3651ae",
   "metadata": {},
   "outputs": [],
   "source": [
    "# 미션 코드로 얻은 평균, 표준편차 값 \n",
    "mean = [0.56019265, 0.52410305, 0.50145299]\n",
    "std = [0.23308824, 0.24294489, 0.2456003]"
   ]
  },
  {
   "cell_type": "code",
   "execution_count": 11,
   "id": "b2bdd836",
   "metadata": {},
   "outputs": [],
   "source": [
    "# transform 할당 \n",
    "transform = get_transforms(mean=mean, std=std, img_size=(224, 224))"
   ]
  },
  {
   "cell_type": "code",
   "execution_count": 12,
   "id": "d4425e0f",
   "metadata": {},
   "outputs": [],
   "source": [
    "# train 데이터 경로 설정 \n",
    "data_dir = '/opt/ml/input/data/train'\n",
    "img_dir = f'{data_dir}/images'\n",
    "df_path = f'{data_dir}/train.csv'"
   ]
  },
  {
   "cell_type": "code",
   "execution_count": 13,
   "id": "eb9bb097",
   "metadata": {},
   "outputs": [],
   "source": [
    "# trainset 정의 \n",
    "trainset = MaskBaseDataset(img_dir=img_dir, mean=mean, std=std, transform=transform)"
   ]
  },
  {
   "cell_type": "code",
   "execution_count": 14,
   "id": "70f2c217",
   "metadata": {},
   "outputs": [],
   "source": [
    "# train, valid 분리용\n",
    "from sklearn.model_selection import train_test_split"
   ]
  },
  {
   "cell_type": "code",
   "execution_count": 15,
   "id": "2bc35d7f",
   "metadata": {},
   "outputs": [],
   "source": [
    "# train dataset과 validation dataset을 8:2 비율로 나눕니다.\n",
    "n_val = int(len(trainset) * 0.2)\n",
    "n_train = len(trainset) - n_val\n",
    "train_dataset, val_dataset = torch.utils.data.random_split(trainset, [n_train, n_val])\n",
    "\n",
    "# 각 dataset에 augmentation 함수를 설정합니다.\n",
    "train_dataset.dataset.set_transform(transform['train'])\n",
    "val_dataset.dataset.set_transform(transform['val'])"
   ]
  },
  {
   "cell_type": "code",
   "execution_count": 16,
   "id": "ea762fee",
   "metadata": {},
   "outputs": [],
   "source": [
    "# training dataloader은 데이터를 섞어주어야 합니다. (shuffle=True)\n",
    "BATCH_SIZE = 64\n",
    "train_loader = DataLoader(\n",
    "    train_dataset,\n",
    "    batch_size=BATCH_SIZE,\n",
    "    shuffle=True\n",
    ")\n",
    "\n",
    "val_loader = DataLoader(\n",
    "    val_dataset,\n",
    "    batch_size=BATCH_SIZE,\n",
    "    shuffle=False\n",
    ")\n",
    "train_steps = len(train_loader.dataset) // BATCH_SIZE\n",
    "val_steps = len(val_loader.dataset) // BATCH_SIZE"
   ]
  },
  {
   "cell_type": "code",
   "execution_count": 17,
   "id": "35cf3229",
   "metadata": {},
   "outputs": [
    {
     "name": "stdout",
     "output_type": "stream",
     "text": [
      "image.shape:  torch.Size([64, 3, 224, 224])\n",
      "label.gender.shape:  torch.Size([64])\n",
      "label.mask.shape:  torch.Size([64])\n",
      "label.age.shape:  torch.Size([64])\n"
     ]
    }
   ],
   "source": [
    "# shape 확인 \n",
    "data_dict = next(iter(train_loader))\n",
    "print(\"image.shape: \", data_dict['image'].shape)\n",
    "print(\"label.gender.shape: \", data_dict['gender'].shape)\n",
    "print(\"label.mask.shape: \", data_dict['mask'].shape)\n",
    "print(\"label.age.shape: \", data_dict['age'].shape)"
   ]
  },
  {
   "cell_type": "code",
   "execution_count": 18,
   "id": "6101e782",
   "metadata": {},
   "outputs": [],
   "source": [
    "from collections import OrderedDict"
   ]
  },
  {
   "attachments": {},
   "cell_type": "markdown",
   "id": "d2a28546",
   "metadata": {},
   "source": [
    "## MultiTask 모델 만들기\n",
    "위에서 다운받은 resnet 기반, forward에서 3가지의 pred label 반환 "
   ]
  },
  {
   "cell_type": "code",
   "execution_count": 19,
   "id": "d9abcce4",
   "metadata": {},
   "outputs": [],
   "source": [
    "class MultiTaskNet(nn.Module):\n",
    "    def __init__(self, net):\n",
    "        super(MultiTaskNet, self).__init__()\n",
    "        self.net = net\n",
    "        self.n_features = self.net.fc.in_features\n",
    "        self.net.fc = nn.Identity()\n",
    "        self.net.fc1 = nn.Sequential(OrderedDict([('linear', nn.Linear(self.n_features,self.n_features)),('relu1', nn.ReLU()),('final', nn.Linear(self.n_features, 1))]))\n",
    "        self.net.fc2 = nn.Sequential(OrderedDict([('linear', nn.Linear(self.n_features,self.n_features)),('relu1', nn.ReLU()),('final', nn.Linear(self.n_features, 3))]))\n",
    "        self.net.fc3 = nn.Sequential(OrderedDict([('linear', nn.Linear(self.n_features,self.n_features)),('relu1', nn.ReLU()),('final', nn.Linear(self.n_features, 3))]))\n",
    "        \n",
    "    def forward(self, x):\n",
    "        gender_head = self.net.fc1(self.net(x))\n",
    "        age_head = self.net.fc2(self.net(x))\n",
    "        mask_head = self.net.fc3(self.net(x))\n",
    "        return age_head, gender_head, mask_head"
   ]
  },
  {
   "attachments": {},
   "cell_type": "markdown",
   "id": "7e175b91",
   "metadata": {},
   "source": [
    "mask, age는 다중 분류, 성별은 이진분류 Loss 적용 "
   ]
  },
  {
   "cell_type": "code",
   "execution_count": 20,
   "id": "a5f5c189",
   "metadata": {},
   "outputs": [],
   "source": [
    "net = MultiTaskNet(model)\n",
    "net.to(device=device)\n",
    "\n",
    "mask_loss = nn.CrossEntropyLoss() # Includes Softmax\n",
    "gender_loss = nn.BCELoss() # Don't include Softmax\n",
    "age_loss = nn.CrossEntropyLoss()\n",
    "\n",
    "lr = 1e-4\n",
    "momentum = 0.09 # Meaning that we will go 9% with the previous direction\n",
    "optimizer = torch.optim.SGD(net.parameters(), lr=lr, momentum=momentum)"
   ]
  },
  {
   "cell_type": "code",
   "execution_count": 21,
   "id": "11524508",
   "metadata": {},
   "outputs": [],
   "source": [
    "n_epochs = 10\n",
    "\n",
    "logger = {\"train_loss\": list(),\n",
    "          \"validation_loss\": list(),\n",
    "          \"train_gender_loss\": list(),\n",
    "          \"train_mask_loss\": list(),\n",
    "          \"train_age_loss\": list(),\n",
    "          \"validation_gender_loss\": list(),\n",
    "          \"validation_mask_loss\": list(),\n",
    "          \"validation_age_loss\": list(),\n",
    "          }"
   ]
  },
  {
   "attachments": {},
   "cell_type": "markdown",
   "id": "178d0c74",
   "metadata": {},
   "source": [
    "## Train Code "
   ]
  },
  {
   "cell_type": "code",
   "execution_count": 22,
   "id": "64705710",
   "metadata": {},
   "outputs": [
    {
     "name": "stderr",
     "output_type": "stream",
     "text": [
      "237it [03:05,  1.28it/s]0:00<?, ?it/s]\n"
     ]
    },
    {
     "name": "stdout",
     "output_type": "stream",
     "text": [
      "EPOCH  1\n",
      "Training Losses: Mask: 1.0774877071380615, Gender: 0.685883641242981, Age: 1.0866641998291016\n"
     ]
    },
    {
     "name": "stderr",
     "output_type": "stream",
     "text": [
      "60it [00:22,  2.63it/s]\n",
      " 10%|█         | 1/10 [03:28<31:14, 208.27s/it]"
     ]
    },
    {
     "name": "stdout",
     "output_type": "stream",
     "text": [
      "Validation Losses: Mask: 1.04362154006958, Gender: 0.6991575360298157, Age: 1.1004831790924072\n",
      "Average Losses — Training: 2.8615264892578125 | Validation 2.8692691326141357\n",
      "\n"
     ]
    },
    {
     "name": "stderr",
     "output_type": "stream",
     "text": [
      "237it [03:05,  1.28it/s]\n"
     ]
    },
    {
     "name": "stdout",
     "output_type": "stream",
     "text": [
      "EPOCH  2\n",
      "Training Losses: Mask: 1.015594482421875, Gender: 0.6903163194656372, Age: 1.081099510192871\n"
     ]
    },
    {
     "name": "stderr",
     "output_type": "stream",
     "text": [
      "60it [00:22,  2.65it/s]\n",
      " 20%|██        | 2/10 [06:56<27:45, 208.18s/it]"
     ]
    },
    {
     "name": "stdout",
     "output_type": "stream",
     "text": [
      "Validation Losses: Mask: 1.0059202909469604, Gender: 0.6987462043762207, Age: 1.095313549041748\n",
      "Average Losses — Training: 2.803129196166992 | Validation 2.817389965057373\n",
      "\n"
     ]
    },
    {
     "name": "stderr",
     "output_type": "stream",
     "text": [
      "237it [03:04,  1.28it/s]\n"
     ]
    },
    {
     "name": "stdout",
     "output_type": "stream",
     "text": [
      "EPOCH  3\n",
      "Training Losses: Mask: 1.0335135459899902, Gender: 0.6924080848693848, Age: 1.0447746515274048\n"
     ]
    },
    {
     "name": "stderr",
     "output_type": "stream",
     "text": [
      "60it [00:22,  2.67it/s]\n",
      " 30%|███       | 3/10 [10:23<24:15, 207.98s/it]"
     ]
    },
    {
     "name": "stdout",
     "output_type": "stream",
     "text": [
      "Validation Losses: Mask: 0.9633686542510986, Gender: 0.7038777470588684, Age: 1.0896540880203247\n",
      "Average Losses — Training: 2.7512173652648926 | Validation 2.7652699947357178\n",
      "\n"
     ]
    },
    {
     "name": "stderr",
     "output_type": "stream",
     "text": [
      "237it [03:03,  1.29it/s]\n"
     ]
    },
    {
     "name": "stdout",
     "output_type": "stream",
     "text": [
      "EPOCH  4\n",
      "Training Losses: Mask: 1.0074790716171265, Gender: 0.6691505908966064, Age: 1.0082297325134277\n"
     ]
    },
    {
     "name": "stderr",
     "output_type": "stream",
     "text": [
      "60it [00:23,  2.61it/s]\n",
      " 40%|████      | 4/10 [13:50<20:46, 207.67s/it]"
     ]
    },
    {
     "name": "stdout",
     "output_type": "stream",
     "text": [
      "Validation Losses: Mask: 0.934658944606781, Gender: 0.7011458277702332, Age: 1.0815403461456299\n",
      "Average Losses — Training: 2.704392433166504 | Validation 2.727454662322998\n",
      "\n"
     ]
    },
    {
     "name": "stderr",
     "output_type": "stream",
     "text": [
      "237it [03:04,  1.29it/s]\n"
     ]
    },
    {
     "name": "stdout",
     "output_type": "stream",
     "text": [
      "EPOCH  5\n",
      "Training Losses: Mask: 0.9324437379837036, Gender: 0.696050226688385, Age: 1.0658960342407227\n"
     ]
    },
    {
     "name": "stderr",
     "output_type": "stream",
     "text": [
      "60it [00:22,  2.62it/s]\n",
      " 50%|█████     | 5/10 [17:18<17:17, 207.59s/it]"
     ]
    },
    {
     "name": "stdout",
     "output_type": "stream",
     "text": [
      "Validation Losses: Mask: 0.9111223816871643, Gender: 0.7011353373527527, Age: 1.087842583656311\n",
      "Average Losses — Training: 2.6628146171569824 | Validation 2.687324047088623\n",
      "\n"
     ]
    },
    {
     "name": "stderr",
     "output_type": "stream",
     "text": [
      "237it [03:03,  1.29it/s]\n"
     ]
    },
    {
     "name": "stdout",
     "output_type": "stream",
     "text": [
      "EPOCH  6\n",
      "Training Losses: Mask: 0.8519153594970703, Gender: 0.7071723341941833, Age: 1.006359577178955\n"
     ]
    },
    {
     "name": "stderr",
     "output_type": "stream",
     "text": [
      "60it [00:23,  2.58it/s]\n",
      " 60%|██████    | 6/10 [20:45<13:49, 207.47s/it]"
     ]
    },
    {
     "name": "stdout",
     "output_type": "stream",
     "text": [
      "Validation Losses: Mask: 0.8806403875350952, Gender: 0.699766218662262, Age: 1.0815396308898926\n",
      "Average Losses — Training: 2.6252963542938232 | Validation 2.651608467102051\n",
      "\n"
     ]
    },
    {
     "name": "stderr",
     "output_type": "stream",
     "text": [
      "237it [03:04,  1.28it/s]\n"
     ]
    },
    {
     "name": "stdout",
     "output_type": "stream",
     "text": [
      "EPOCH  7\n",
      "Training Losses: Mask: 0.8194336891174316, Gender: 0.6986117362976074, Age: 0.9799362421035767\n"
     ]
    },
    {
     "name": "stderr",
     "output_type": "stream",
     "text": [
      "60it [00:23,  2.58it/s]\n",
      " 70%|███████   | 7/10 [24:13<10:22, 207.65s/it]"
     ]
    },
    {
     "name": "stdout",
     "output_type": "stream",
     "text": [
      "Validation Losses: Mask: 0.8585830926895142, Gender: 0.7012985944747925, Age: 1.0795278549194336\n",
      "Average Losses — Training: 2.5919981002807617 | Validation 2.628143548965454\n",
      "\n"
     ]
    },
    {
     "name": "stderr",
     "output_type": "stream",
     "text": [
      "237it [03:04,  1.29it/s]\n"
     ]
    },
    {
     "name": "stdout",
     "output_type": "stream",
     "text": [
      "EPOCH  8\n",
      "Training Losses: Mask: 0.9286839962005615, Gender: 0.6940533518791199, Age: 0.9990453720092773\n"
     ]
    },
    {
     "name": "stderr",
     "output_type": "stream",
     "text": [
      "60it [00:22,  2.63it/s]\n",
      " 80%|████████  | 8/10 [27:40<06:55, 207.51s/it]"
     ]
    },
    {
     "name": "stdout",
     "output_type": "stream",
     "text": [
      "Validation Losses: Mask: 0.8532581925392151, Gender: 0.6998184323310852, Age: 1.0849040746688843\n",
      "Average Losses — Training: 2.5624911785125732 | Validation 2.601574659347534\n",
      "\n"
     ]
    },
    {
     "name": "stderr",
     "output_type": "stream",
     "text": [
      "237it [03:03,  1.29it/s]\n"
     ]
    },
    {
     "name": "stdout",
     "output_type": "stream",
     "text": [
      "EPOCH  9\n",
      "Training Losses: Mask: 0.914039134979248, Gender: 0.7012348771095276, Age: 0.9892091155052185\n"
     ]
    },
    {
     "name": "stderr",
     "output_type": "stream",
     "text": [
      "60it [00:22,  2.61it/s]\n",
      " 90%|█████████ | 9/10 [31:07<03:27, 207.35s/it]"
     ]
    },
    {
     "name": "stdout",
     "output_type": "stream",
     "text": [
      "Validation Losses: Mask: 0.8263145089149475, Gender: 0.7009445428848267, Age: 1.0778300762176514\n",
      "Average Losses — Training: 2.53648042678833 | Validation 2.569553852081299\n",
      "\n"
     ]
    },
    {
     "name": "stderr",
     "output_type": "stream",
     "text": [
      "237it [03:03,  1.29it/s]\n"
     ]
    },
    {
     "name": "stdout",
     "output_type": "stream",
     "text": [
      "EPOCH  10\n",
      "Training Losses: Mask: 0.7993543744087219, Gender: 0.6550008654594421, Age: 0.9335858821868896\n"
     ]
    },
    {
     "name": "stderr",
     "output_type": "stream",
     "text": [
      "60it [00:22,  2.65it/s]\n",
      "100%|██████████| 10/10 [34:33<00:00, 207.38s/it]"
     ]
    },
    {
     "name": "stdout",
     "output_type": "stream",
     "text": [
      "Validation Losses: Mask: 0.7928236722946167, Gender: 0.703321635723114, Age: 1.0778135061264038\n",
      "Average Losses — Training: 2.512552261352539 | Validation 2.5553157329559326\n",
      "\n"
     ]
    },
    {
     "name": "stderr",
     "output_type": "stream",
     "text": [
      "\n"
     ]
    }
   ],
   "source": [
    "sig = nn.Sigmoid()\n",
    "\n",
    "for epoch in tqdm(range(n_epochs)):\n",
    "    model.train()\n",
    "\n",
    "    total_training_loss = 0\n",
    "    total_validation_loss = 0\n",
    "    training_gender_loss = 0\n",
    "    training_mask_loss = 0\n",
    "    training_age_loss = 0\n",
    "    validation_gender_loss = 0\n",
    "    validation_mask_loss = 0\n",
    "    validation_age_loss = 0\n",
    "\n",
    "    for i, data in tqdm(enumerate(train_loader)):\n",
    "        \n",
    "        inputs = data[\"image\"].to(device=device)\n",
    "\n",
    "        age_label = data[\"age\"].to(device=device)\n",
    "        gender_label = data[\"gender\"].to(device=device)\n",
    "        mask_label = data[\"mask\"].to(device=device)\n",
    "\n",
    "        optimizer.zero_grad()\n",
    "        age_output, gender_output, mask_output = net(inputs)\n",
    "        #print(type(age_label.unsqueeze(1)))\n",
    "        #print(age_output.shape, age_label.shape)\n",
    "\n",
    "        loss_1 = age_loss(age_output, age_label)\n",
    "        loss_2 = gender_loss(sig(gender_output), gender_label.unsqueeze(1).float())\n",
    "        loss_3 = mask_loss(mask_output, mask_label)\n",
    "        \n",
    "        loss = loss_1 + loss_2 + loss_3\n",
    "\n",
    "        loss.backward()\n",
    "        optimizer.step()\n",
    "        total_training_loss += loss\n",
    "\n",
    "        training_age_loss += loss_1.item()\n",
    "        training_gender_loss += loss_2.item()\n",
    "        training_mask_loss += loss_3.item()\n",
    "        \n",
    "        \n",
    "\n",
    "    print('EPOCH ', epoch+1)\n",
    "    print(\"Training Losses: Mask: {}, Gender: {}, Age: {}\".format(loss_3, loss_2, loss_1))\n",
    "\n",
    "    with torch.no_grad():\n",
    "        model.eval()\n",
    "\n",
    "        for i, data in tqdm(enumerate(val_loader)):\n",
    "            inputs = data[\"image\"].to(device=device)\n",
    "\n",
    "            age_label = data[\"age\"].to(device=device)\n",
    "            gender_label = data[\"gender\"].to(device=device)\n",
    "            mask_label =  data[\"mask\"].to(device=device)\n",
    "            age_output, gender_output, mask_output = net(inputs)\n",
    "            # print(age_output, age_label.unsqueeze(1).float())\n",
    "            loss_1 = age_loss(age_output, age_label)\n",
    "            loss_2 = gender_loss(sig(gender_output), gender_label.unsqueeze(1).float())\n",
    "            loss_3 = mask_loss(mask_output, mask_label)\n",
    "\n",
    "            loss = loss_1 + loss_2 + loss_3\n",
    "            total_validation_loss += loss\n",
    "            \n",
    "            validation_age_loss += loss_1.item()\n",
    "            validation_gender_loss += loss_2.item()\n",
    "            validation_mask_loss += loss_3.item()\n",
    "            \n",
    "            \n",
    "        print(\"Validation Losses: Mask: {}, Gender: {}, Age: {}\".format(loss_3, loss_2, loss_1))\n",
    "\n",
    "    avgTrainLoss = total_training_loss / train_steps\n",
    "    avgValLoss = total_validation_loss / val_steps\n",
    "    \n",
    "    print('Average Losses — Training: {} | Validation {}'.format(avgTrainLoss, avgValLoss))\n",
    "    print() \n",
    "    avgTrainGenderLoss = training_gender_loss/len(train_loader.dataset)\n",
    "    avgTrainMaskLoss = training_mask_loss/len(train_loader.dataset)\n",
    "    avgTrainAgeLoss = training_age_loss/len(train_loader.dataset)\n",
    "\n",
    "    avgValGenderLoss = validation_gender_loss/len(val_loader.dataset)\n",
    "    avgValMaskLoss = validation_mask_loss/len(val_loader.dataset)\n",
    "    avgValAgeLoss = validation_age_loss/len(val_loader.dataset)\n",
    "\n",
    "    logger[\"train_loss\"].append(avgTrainLoss.cpu().detach().numpy())\n",
    "    logger[\"train_gender_loss\"].append(avgTrainGenderLoss)\n",
    "    logger[\"train_mask_loss\"].append(avgTrainMaskLoss)\n",
    "    logger[\"train_age_loss\"].append(avgTrainAgeLoss)\n",
    "    \n",
    "    logger[\"validation_loss\"].append(avgValLoss.cpu().detach().numpy())\n",
    "    logger[\"validation_gender_loss\"].append(avgValGenderLoss)\n",
    "    logger[\"validation_mask_loss\"].append(avgValMaskLoss)\n",
    "    logger[\"validation_age_loss\"].append(avgValAgeLoss)"
   ]
  },
  {
   "attachments": {},
   "cell_type": "markdown",
   "id": "1587775c",
   "metadata": {},
   "source": [
    "## Train, Valid Loss plot "
   ]
  },
  {
   "cell_type": "code",
   "execution_count": 23,
   "id": "7d57e60b",
   "metadata": {},
   "outputs": [
    {
     "data": {
      "image/png": "[encoded data removed]",
      "text/plain": [
       "<Figure size 432x288 with 1 Axes>"
      ]
     },
     "metadata": {
      "needs_background": "light"
     },
     "output_type": "display_data"
    }
   ],
   "source": [
    "plt.plot(logger[\"train_loss\"])\n",
    "plt.plot(logger[\"validation_loss\"])\n",
    "plt.legend(['Train','Valid'])\n",
    "plt.xlabel('Epoch')\n",
    "plt.ylabel('Loss')\n",
    "plt.show()"
   ]
  },
  {
   "cell_type": "code",
   "execution_count": 24,
   "id": "ccf0e262",
   "metadata": {},
   "outputs": [
    {
     "data": {
      "image/png": "[encoded data removed]",
      "text/plain": [
       "<Figure size 432x288 with 1 Axes>"
      ]
     },
     "metadata": {
      "needs_background": "light"
     },
     "output_type": "display_data"
    }
   ],
   "source": [
    "plt.plot(logger[\"train_gender_loss\"])\n",
    "plt.plot(logger[\"validation_gender_loss\"])\n",
    "plt.legend(['Train','Valid'])\n",
    "plt.xlabel('Epoch')\n",
    "plt.ylabel('Loss')\n",
    "plt.show()"
   ]
  },
  {
   "cell_type": "code",
   "execution_count": 26,
   "id": "5f2275a4",
   "metadata": {},
   "outputs": [
    {
     "data": {
      "image/png": "[encoded data removed]",
      "text/plain": [
       "<Figure size 432x288 with 1 Axes>"
      ]
     },
     "metadata": {
      "needs_background": "light"
     },
     "output_type": "display_data"
    }
   ],
   "source": [
    "plt.plot(logger[\"train_mask_loss\"])\n",
    "plt.plot(logger[\"validation_mask_loss\"])\n",
    "plt.legend(['Train','Valid'])\n",
    "plt.xlabel('Epoch')\n",
    "plt.ylabel('Loss')\n",
    "plt.show()"
   ]
  },
  {
   "cell_type": "code",
   "execution_count": 27,
   "id": "dcbf8df2",
   "metadata": {},
   "outputs": [
    {
     "data": {
      "image/png": "[encoded data removed]",
      "text/plain": [
       "<Figure size 432x288 with 1 Axes>"
      ]
     },
     "metadata": {
      "needs_background": "light"
     },
     "output_type": "display_data"
    }
   ],
   "source": [
    "plt.plot(logger[\"train_age_loss\"])\n",
    "plt.plot(logger[\"validation_age_loss\"])\n",
    "plt.legend(['Train','Valid'])\n",
    "plt.xlabel('Epoch')\n",
    "plt.ylabel('Loss')\n",
    "plt.show()"
   ]
  },
  {
   "cell_type": "code",
   "execution_count": 1,
   "id": "f072a432",
   "metadata": {},
   "outputs": [
    {
     "ename": "NameError",
     "evalue": "name 'torch' is not defined",
     "output_type": "error",
     "traceback": [
      "\u001b[0;31m---------------------------------------------------------------------------\u001b[0m",
      "\u001b[0;31mNameError\u001b[0m                                 Traceback (most recent call last)",
      "\u001b[0;32m<ipython-input-1-f9b80f935b49>\u001b[0m in \u001b[0;36m<module>\u001b[0;34m\u001b[0m\n\u001b[0;32m----> 1\u001b[0;31m \u001b[0mtorch\u001b[0m\u001b[0;34m.\u001b[0m\u001b[0msave\u001b[0m\u001b[0;34m(\u001b[0m\u001b[0mnet\u001b[0m\u001b[0;34m,\u001b[0m \u001b[0;34m\"checkpoint/resnet50_10epochs.pth\"\u001b[0m\u001b[0;34m)\u001b[0m\u001b[0;34m\u001b[0m\u001b[0;34m\u001b[0m\u001b[0m\n\u001b[0m",
      "\u001b[0;31mNameError\u001b[0m: name 'torch' is not defined"
     ]
    }
   ],
   "source": [
    "torch.save(net, \"checkpoint/resnet50_10epochs.pth\")"
   ]
  },
  {
   "cell_type": "code",
   "execution_count": 37,
   "id": "f002373d",
   "metadata": {},
   "outputs": [
    {
     "data": {
      "text/plain": [
       "(tensor([[ 0.1680,  0.1683, -0.3452]], device='cuda:0', grad_fn=<AddmmBackward>),\n",
       " tensor([[0.1573]], device='cuda:0', grad_fn=<AddmmBackward>),\n",
       " tensor([[ 0.4176, -0.2435, -0.2517]], device='cuda:0', grad_fn=<AddmmBackward>))"
      ]
     },
     "execution_count": 37,
     "metadata": {},
     "output_type": "execute_result"
    }
   ],
   "source": [
    "net(torch.Tensor(trainset[0]['image']).unsqueeze(0).to(device))"
   ]
  }
 ],
 "metadata": {
  "kernelspec": {
   "display_name": "Python 3 (ipykernel)",
   "language": "python",
   "name": "python3"
  },
  "language_info": {
   "codemirror_mode": {
    "name": "ipython",
    "version": 3
   },
   "file_extension": ".py",
   "mimetype": "text/x-python",
   "name": "python",
   "nbconvert_exporter": "python",
   "pygments_lexer": "ipython3",
   "version": "3.8.5"
  }
 },
 "nbformat": 4,
 "nbformat_minor": 5
}
