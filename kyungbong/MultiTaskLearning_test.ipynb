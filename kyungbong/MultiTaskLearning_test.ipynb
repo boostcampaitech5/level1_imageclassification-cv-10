{
 "cells": [
  {
   "attachments": {},
   "cell_type": "markdown",
   "id": "about-heavy",
   "metadata": {},
   "source": [
    "## Libarary 불러오기"
   ]
  },
  {
   "cell_type": "code",
   "execution_count": 1,
   "id": "cubic-scoop",
   "metadata": {},
   "outputs": [],
   "source": [
    "import os\n",
    "import pandas as pd\n",
    "from PIL import Image\n",
    "\n",
    "import torch\n",
    "import torch.nn as nn\n",
    "import torch.nn.functional as F\n",
    "from torch.utils.data import Dataset, DataLoader\n",
    "import torch.optim as optim\n",
    "from torchvision import transforms\n",
    "from torchvision.transforms import Resize, ToTensor, Normalize\n",
    "from tqdm import tqdm \n",
    "import glob \n",
    "\n",
    "import matplotlib.pyplot as plt\n",
    "import numpy as np "
   ]
  },
  {
   "attachments": {},
   "cell_type": "markdown",
   "id": "6233b458",
   "metadata": {},
   "source": [
    "## Albumentation (get_transform 정의)"
   ]
  },
  {
   "cell_type": "code",
   "execution_count": 2,
   "id": "7246313c",
   "metadata": {},
   "outputs": [],
   "source": [
    "from albumentations import *\n",
    "from albumentations.pytorch import ToTensorV2\n",
    "\n",
    "def get_transforms(need=('train', 'val'), img_size=(512, 384), mean=(0.548, 0.504, 0.479), std=(0.237, 0.247, 0.246)):\n",
    "    \"\"\"\n",
    "    train 혹은 validation의 augmentation 함수를 정의합니다. train은 데이터에 많은 변형을 주어야하지만, validation에는 최소한의 전처리만 주어져야합니다.\n",
    "    \n",
    "    Args:\n",
    "        need: 'train', 혹은 'val' 혹은 둘 다에 대한 augmentation 함수를 얻을 건지에 대한 옵션입니다.\n",
    "        img_size: Augmentation 이후 얻을 이미지 사이즈입니다.\n",
    "        mean: 이미지를 Normalize할 때 사용될 RGB 평균값입니다.\n",
    "        std: 이미지를 Normalize할 때 사용될 RGB 표준편차입니다.\n",
    "\n",
    "    Returns:\n",
    "        transformations: Augmentation 함수들이 저장된 dictionary 입니다. transformations['train']은 train 데이터에 대한 augmentation 함수가 있습니다.\n",
    "    \"\"\"\n",
    "    transformations = {}\n",
    "    if 'train' in need:\n",
    "        transformations['train'] = Compose([\n",
    "            Resize(img_size[0], img_size[1], p=1.0),\n",
    "            HorizontalFlip(p=0.5),\n",
    "            ShiftScaleRotate(p=0.5),\n",
    "            HueSaturationValue(hue_shift_limit=0.2, sat_shift_limit=0.2, val_shift_limit=0.2, p=0.5),\n",
    "            RandomBrightnessContrast(brightness_limit=(-0.1, 0.1), contrast_limit=(-0.1, 0.1), p=0.5),\n",
    "            GaussNoise(p=0.5),\n",
    "            Normalize(mean=mean, std=std, max_pixel_value=255.0, p=1.0),\n",
    "            ToTensorV2(p=1.0),\n",
    "        ], p=1.0)\n",
    "    if 'val' in need:\n",
    "        transformations['val'] = Compose([\n",
    "            Resize(img_size[0], img_size[1]),\n",
    "            Normalize(mean=mean, std=std, max_pixel_value=255.0, p=1.0),\n",
    "            ToTensorV2(p=1.0),\n",
    "        ], p=1.0)\n",
    "\n",
    "    return transformations"
   ]
  },
  {
   "attachments": {},
   "cell_type": "markdown",
   "id": "03fc7449",
   "metadata": {},
   "source": [
    "## Model 정의"
   ]
  },
  {
   "cell_type": "code",
   "execution_count": 3,
   "id": "5a2a2887",
   "metadata": {},
   "outputs": [],
   "source": [
    "import timm "
   ]
  },
  {
   "cell_type": "code",
   "execution_count": 4,
   "id": "31af52be",
   "metadata": {},
   "outputs": [],
   "source": [
    "device =  torch.device(\"cuda\")\n",
    "model = timm.create_model('resnet50', pretrained=True) # resnet50 "
   ]
  },
  {
   "cell_type": "code",
   "execution_count": 5,
   "id": "ce746fc4",
   "metadata": {},
   "outputs": [
    {
     "data": {
      "text/plain": [
       "{'url': 'https://github.com/rwightman/pytorch-image-models/releases/download/v0.1-rsb-weights/resnet50_a1_0-14fe96d1.pth',\n",
       " 'num_classes': 1000,\n",
       " 'input_size': (3, 224, 224),\n",
       " 'pool_size': (7, 7),\n",
       " 'crop_pct': 0.95,\n",
       " 'interpolation': 'bicubic',\n",
       " 'mean': (0.485, 0.456, 0.406),\n",
       " 'std': (0.229, 0.224, 0.225),\n",
       " 'first_conv': 'conv1',\n",
       " 'classifier': 'fc',\n",
       " 'architecture': 'resnet50'}"
      ]
     },
     "execution_count": 5,
     "metadata": {},
     "output_type": "execute_result"
    }
   ],
   "source": [
    "model.default_cfg"
   ]
  },
  {
   "attachments": {},
   "cell_type": "markdown",
   "id": "0b8221be",
   "metadata": {},
   "source": [
    "## Custom Dataset class (미션 코드)\n",
    "\n",
    "강의 코드랑 다른점은 `__getitem()__` 부분 \n",
    "\n",
    "```python\n",
    "return {'image': image_transform, 'mask': mask_label, 'gender': gender_label, 'age': age_label}\n",
    "```\n",
    "dictionary, label 별로 return "
   ]
  },
  {
   "cell_type": "code",
   "execution_count": 6,
   "id": "6e7a389a",
   "metadata": {},
   "outputs": [],
   "source": [
    "from enum import Enum # 서로 관련이 있는 여러개의 상수의 집합 정의 \n",
    "# .name 이랑 .value 통해서 이름이랑 값 호출 가능 \n",
    "\n",
    "class MaskLabels(int, Enum): \n",
    "    MASK = 0\n",
    "    INCORRECT = 1\n",
    "    NORMAL = 2\n",
    "\n",
    "\n",
    "class GenderLabels(int, Enum):\n",
    "    MALE = 0\n",
    "    FEMALE = 1\n",
    "\n",
    "    @classmethod\n",
    "    def from_str(cls, value: str) -> int:\n",
    "        value = value.lower()\n",
    "        if value == \"male\":\n",
    "            return cls.MALE\n",
    "        elif value == \"female\":\n",
    "            return cls.FEMALE\n",
    "        else:\n",
    "            raise ValueError(f\"Gender value should be either 'male' or 'female', {value}\")\n",
    "\n",
    "\n",
    "class AgeLabels(int, Enum):\n",
    "    YOUNG = 0\n",
    "    MIDDLE = 1\n",
    "    OLD = 2\n",
    "\n",
    "    @classmethod\n",
    "    def from_number(cls, value: str) -> int:\n",
    "        try:\n",
    "            value = int(value)\n",
    "        except Exception:\n",
    "            raise ValueError(f\"Age value should be numeric, {value}\")\n",
    "\n",
    "        if value < 30:\n",
    "            return cls.YOUNG\n",
    "        elif value < 60:\n",
    "            return cls.MIDDLE\n",
    "        else:\n",
    "            return cls.OLD"
   ]
  },
  {
   "cell_type": "code",
   "execution_count": 7,
   "id": "c26c26fd",
   "metadata": {},
   "outputs": [],
   "source": [
    "class MaskBaseDataset(Dataset):\n",
    "    \n",
    "\n",
    "    _file_names = {\n",
    "        \"mask1\": MaskLabels.MASK,\n",
    "        \"mask2\": MaskLabels.MASK,\n",
    "        \"mask3\": MaskLabels.MASK,\n",
    "        \"mask4\": MaskLabels.MASK,\n",
    "        \"mask5\": MaskLabels.MASK,\n",
    "        \"incorrect_mask\": MaskLabels.INCORRECT,\n",
    "        \"normal\": MaskLabels.NORMAL\n",
    "    }\n",
    "\n",
    "    image_paths = []\n",
    "    mask_labels = []\n",
    "    gender_labels = []\n",
    "    age_labels = []\n",
    "\n",
    "    def __init__(self, img_dir, mean, std, transform=None):\n",
    "        \"\"\"\n",
    "        MaskBaseDataset을 initialize 합니다.\n",
    "\n",
    "        Args:\n",
    "            img_dir: 학습 이미지 폴더의 root directory 입니다.\n",
    "            transform: Augmentation을 하는 함수입니다.\n",
    "        \"\"\"\n",
    "        self.img_dir = img_dir\n",
    "        self.mean = mean\n",
    "        self.std = std\n",
    "        self.transform = transform\n",
    "\n",
    "        self.setup()\n",
    "\n",
    "    def set_transform(self, transform):\n",
    "        \"\"\"\n",
    "        transform 함수를 설정하는 함수입니다.\n",
    "        \"\"\"\n",
    "        self.transform = transform\n",
    "        \n",
    "    def setup(self):\n",
    "        \"\"\"\n",
    "        image의 경로와 각 이미지들의 label을 계산하여 저장해두는 함수입니다.\n",
    "        \"\"\"\n",
    "        profiles = os.listdir(self.img_dir)\n",
    "        for profile in profiles:\n",
    "            if profile.startswith(\".\"):  # \".\" 로 시작하는 파일은 무시합니다\n",
    "                continue\n",
    "\n",
    "            img_folder = os.path.join(self.img_dir, profile)\n",
    "            for file_name in os.listdir(img_folder):\n",
    "                _file_name, ext = os.path.splitext(file_name)\n",
    "                if _file_name not in self._file_names:  # \".\" 로 시작하는 파일 및 invalid 한 파일들은 무시합니다\n",
    "                    continue\n",
    "\n",
    "                img_path = os.path.join(self.img_dir, profile, file_name)  # (resized_data, 000004_male_Asian_54, mask1.jpg)\n",
    "                mask_label = self._file_names[_file_name]\n",
    "\n",
    "                id, gender, race, age = profile.split(\"_\")\n",
    "                gender_label = GenderLabels.from_str(gender)\n",
    "                age_label = AgeLabels.from_number(age)\n",
    "\n",
    "                self.image_paths.append(img_path)\n",
    "                self.mask_labels.append(mask_label)\n",
    "                self.gender_labels.append(gender_label)\n",
    "                self.age_labels.append(age_label)\n",
    "\n",
    "    def __getitem__(self, index):\n",
    "        \"\"\"\n",
    "        데이터를 불러오는 함수입니다. \n",
    "        데이터셋 class에 데이터 정보가 저장되어 있고, index를 통해 해당 위치에 있는 데이터 정보를 불러옵니다.\n",
    "        \n",
    "        Args:\n",
    "            index: 불러올 데이터의 인덱스값입니다.\n",
    "        \"\"\"\n",
    "        # 이미지를 불러옵니다.\n",
    "        image_path = self.image_paths[index]\n",
    "        image = Image.open(image_path)\n",
    "        \n",
    "        # 레이블을 불러옵니다.\n",
    "        mask_label = self.mask_labels[index]\n",
    "        gender_label = self.gender_labels[index]\n",
    "        age_label = self.age_labels[index]\n",
    "        multi_class_label = mask_label * 6 + gender_label * 3 + age_label\n",
    "        \n",
    "        # 이미지를 Augmentation 시킵니다.\n",
    "        image_transform = self.transform(image=np.array(image))['image']\n",
    "        return {'image': image_transform, 'mask': mask_label, 'gender': gender_label, 'age': age_label}\n",
    "\n",
    "    def __len__(self):\n",
    "        return len(self.image_paths)"
   ]
  },
  {
   "cell_type": "code",
   "execution_count": 8,
   "id": "5e3651ae",
   "metadata": {},
   "outputs": [],
   "source": [
    "# 미션 코드로 얻은 평균, 표준편차 값 \n",
    "mean = [0.56019265, 0.52410305, 0.50145299]\n",
    "std = [0.23308824, 0.24294489, 0.2456003]"
   ]
  },
  {
   "cell_type": "code",
   "execution_count": 9,
   "id": "b2bdd836",
   "metadata": {},
   "outputs": [],
   "source": [
    "# transform 할당 \n",
    "transform = get_transforms(mean=mean, std=std, img_size=(224, 224))"
   ]
  },
  {
   "cell_type": "code",
   "execution_count": 10,
   "id": "d4425e0f",
   "metadata": {},
   "outputs": [],
   "source": [
    "# train 데이터 경로 설정 \n",
    "data_dir = '/opt/ml/input/data/train'\n",
    "img_dir = f'{data_dir}/images'\n",
    "df_path = f'{data_dir}/train.csv'"
   ]
  },
  {
   "cell_type": "code",
   "execution_count": 11,
   "id": "eb9bb097",
   "metadata": {},
   "outputs": [],
   "source": [
    "# trainset 정의 \n",
    "trainset = MaskBaseDataset(img_dir=img_dir, mean=mean, std=std, transform=transform)"
   ]
  },
  {
   "cell_type": "code",
   "execution_count": 12,
   "id": "70f2c217",
   "metadata": {},
   "outputs": [],
   "source": [
    "# train, valid 분리용\n",
    "from sklearn.model_selection import train_test_split"
   ]
  },
  {
   "cell_type": "code",
   "execution_count": 13,
   "id": "2bc35d7f",
   "metadata": {},
   "outputs": [],
   "source": [
    "# train dataset과 validation dataset을 8:2 비율로 나눕니다.\n",
    "n_val = int(len(trainset) * 0.2)\n",
    "n_train = len(trainset) - n_val\n",
    "train_dataset, val_dataset = torch.utils.data.random_split(trainset, [n_train, n_val])\n",
    "\n",
    "# 각 dataset에 augmentation 함수를 설정합니다.\n",
    "train_dataset.dataset.set_transform(transform['train'])\n",
    "val_dataset.dataset.set_transform(transform['val'])"
   ]
  },
  {
   "cell_type": "code",
   "execution_count": 14,
   "id": "ea762fee",
   "metadata": {},
   "outputs": [],
   "source": [
    "# training dataloader은 데이터를 섞어주어야 합니다. (shuffle=True)\n",
    "BATCH_SIZE = 64\n",
    "train_loader = DataLoader(\n",
    "    train_dataset,\n",
    "    batch_size=BATCH_SIZE,\n",
    "    shuffle=True\n",
    ")\n",
    "\n",
    "val_loader = DataLoader(\n",
    "    val_dataset,\n",
    "    batch_size=BATCH_SIZE,\n",
    "    shuffle=False\n",
    ")\n",
    "train_steps = len(train_loader.dataset) // BATCH_SIZE\n",
    "val_steps = len(val_loader.dataset) // BATCH_SIZE"
   ]
  },
  {
   "cell_type": "code",
   "execution_count": 15,
   "id": "35cf3229",
   "metadata": {},
   "outputs": [
    {
     "name": "stdout",
     "output_type": "stream",
     "text": [
      "image.shape:  torch.Size([64, 3, 224, 224])\n",
      "label.gender.shape:  torch.Size([64])\n",
      "label.mask.shape:  torch.Size([64])\n",
      "label.age.shape:  torch.Size([64])\n"
     ]
    }
   ],
   "source": [
    "# shape 확인 \n",
    "data_dict = next(iter(train_loader))\n",
    "print(\"image.shape: \", data_dict['image'].shape)\n",
    "print(\"label.gender.shape: \", data_dict['gender'].shape)\n",
    "print(\"label.mask.shape: \", data_dict['mask'].shape)\n",
    "print(\"label.age.shape: \", data_dict['age'].shape)"
   ]
  },
  {
   "cell_type": "code",
   "execution_count": 16,
   "id": "6101e782",
   "metadata": {},
   "outputs": [],
   "source": [
    "from collections import OrderedDict"
   ]
  },
  {
   "attachments": {},
   "cell_type": "markdown",
   "id": "d2a28546",
   "metadata": {},
   "source": [
    "## MultiTask 모델 만들기\n",
    "위에서 다운받은 resnet 기반, forward에서 3가지의 pred label 반환 "
   ]
  },
  {
   "cell_type": "code",
   "execution_count": 17,
   "id": "d9abcce4",
   "metadata": {},
   "outputs": [],
   "source": [
    "class MultiTaskNet(nn.Module):\n",
    "    def __init__(self, net):\n",
    "        super(MultiTaskNet, self).__init__()\n",
    "        self.net = net\n",
    "        self.n_features = self.net.fc.in_features\n",
    "        self.net.fc = nn.Identity()\n",
    "        self.net.fc1 = nn.Sequential(OrderedDict([('linear', nn.Linear(self.n_features,self.n_features)),('relu1', nn.ReLU()),('final', nn.Linear(self.n_features, 1))]))\n",
    "        self.net.fc2 = nn.Sequential(OrderedDict([('linear', nn.Linear(self.n_features,self.n_features)),('relu1', nn.ReLU()),('final', nn.Linear(self.n_features, 3))]))\n",
    "        self.net.fc3 = nn.Sequential(OrderedDict([('linear', nn.Linear(self.n_features,self.n_features)),('relu1', nn.ReLU()),('final', nn.Linear(self.n_features, 3))]))\n",
    "        \n",
    "    def forward(self, x):\n",
    "        gender_head = self.net.fc1(self.net(x))\n",
    "        age_head = self.net.fc2(self.net(x))\n",
    "        mask_head = self.net.fc3(self.net(x))\n",
    "        return age_head, gender_head, mask_head"
   ]
  },
  {
   "attachments": {},
   "cell_type": "markdown",
   "id": "7e175b91",
   "metadata": {},
   "source": [
    "mask, age는 다중 분류, 성별은 이진분류 Loss 적용 "
   ]
  },
  {
   "cell_type": "code",
   "execution_count": 18,
   "id": "a5f5c189",
   "metadata": {},
   "outputs": [],
   "source": [
    "net = MultiTaskNet(model)\n",
    "net.to(device=device)\n",
    "\n",
    "mask_loss = nn.CrossEntropyLoss() # Includes Softmax\n",
    "gender_loss = nn.BCELoss() # Don't include Softmax\n",
    "age_loss = nn.CrossEntropyLoss()\n",
    "\n",
    "lr = 1e-4\n",
    "momentum = 0.09 # Meaning that we will go 9% with the previous direction\n",
    "optimizer = torch.optim.SGD(net.parameters(), lr=lr, momentum=momentum)"
   ]
  },
  {
   "cell_type": "code",
   "execution_count": 19,
   "id": "11524508",
   "metadata": {},
   "outputs": [],
   "source": [
    "n_epochs = 50\n",
    "\n",
    "logger = {\"train_loss\": list(),\n",
    "          \"validation_loss\": list(),\n",
    "          \"train_gender_loss\": list(),\n",
    "          \"train_mask_loss\": list(),\n",
    "          \"train_age_loss\": list(),\n",
    "          \"validation_gender_loss\": list(),\n",
    "          \"validation_mask_loss\": list(),\n",
    "          \"validation_age_loss\": list(),\n",
    "          }"
   ]
  },
  {
   "attachments": {},
   "cell_type": "markdown",
   "id": "178d0c74",
   "metadata": {},
   "source": [
    "## Train Code "
   ]
  },
  {
   "cell_type": "code",
   "execution_count": 20,
   "id": "64705710",
   "metadata": {},
   "outputs": [
    {
     "name": "stderr",
     "output_type": "stream",
     "text": [
      "237it [03:07,  1.27it/s]0:00<?, ?it/s]\n"
     ]
    },
    {
     "name": "stdout",
     "output_type": "stream",
     "text": [
      "EPOCH  1\n",
      "Training Losses: Mask: 1.0814462900161743, Gender: 0.6957118511199951, Age: 1.0890988111495972\n"
     ]
    },
    {
     "name": "stderr",
     "output_type": "stream",
     "text": [
      "60it [00:23,  2.51it/s]\n",
      "  2%|▏         | 1/50 [03:31<2:52:25, 211.14s/it]"
     ]
    },
    {
     "name": "stdout",
     "output_type": "stream",
     "text": [
      "Validation Losses: Mask: 1.0506768226623535, Gender: 0.7002612352371216, Age: 1.084482192993164\n",
      "Average Losses — Training: 2.886150598526001 | Validation 2.8873302936553955\n",
      "\n"
     ]
    },
    {
     "name": "stderr",
     "output_type": "stream",
     "text": [
      "237it [03:05,  1.27it/s]\n"
     ]
    },
    {
     "name": "stdout",
     "output_type": "stream",
     "text": [
      "EPOCH  2\n",
      "Training Losses: Mask: 0.9987831115722656, Gender: 0.6932193636894226, Age: 1.073203682899475\n"
     ]
    },
    {
     "name": "stderr",
     "output_type": "stream",
     "text": [
      "60it [00:22,  2.67it/s]\n",
      "  4%|▍         | 2/50 [06:59<2:48:17, 210.36s/it]"
     ]
    },
    {
     "name": "stdout",
     "output_type": "stream",
     "text": [
      "Validation Losses: Mask: 1.002369999885559, Gender: 0.6907534003257751, Age: 1.058441400527954\n",
      "Average Losses — Training: 2.8252644538879395 | Validation 2.8268892765045166\n",
      "\n"
     ]
    },
    {
     "name": "stderr",
     "output_type": "stream",
     "text": [
      "237it [03:04,  1.28it/s]\n"
     ]
    },
    {
     "name": "stdout",
     "output_type": "stream",
     "text": [
      "EPOCH  3\n",
      "Training Losses: Mask: 0.9936816096305847, Gender: 0.6958543062210083, Age: 1.0331153869628906\n"
     ]
    },
    {
     "name": "stderr",
     "output_type": "stream",
     "text": [
      "60it [00:22,  2.64it/s]\n",
      "  6%|▌         | 3/50 [10:27<2:44:11, 209.61s/it]"
     ]
    },
    {
     "name": "stdout",
     "output_type": "stream",
     "text": [
      "Validation Losses: Mask: 0.955775260925293, Gender: 0.6810148358345032, Age: 1.0474853515625\n",
      "Average Losses — Training: 2.77174973487854 | Validation 2.7734568119049072\n",
      "\n"
     ]
    },
    {
     "name": "stderr",
     "output_type": "stream",
     "text": [
      "237it [03:04,  1.28it/s]\n"
     ]
    },
    {
     "name": "stdout",
     "output_type": "stream",
     "text": [
      "EPOCH  4\n",
      "Training Losses: Mask: 0.9595295786857605, Gender: 0.6945837736129761, Age: 1.0592010021209717\n"
     ]
    },
    {
     "name": "stderr",
     "output_type": "stream",
     "text": [
      "60it [00:22,  2.63it/s]\n",
      "  8%|▊         | 4/50 [13:55<2:40:13, 208.99s/it]"
     ]
    },
    {
     "name": "stdout",
     "output_type": "stream",
     "text": [
      "Validation Losses: Mask: 0.9172192811965942, Gender: 0.6747715473175049, Age: 1.0356993675231934\n",
      "Average Losses — Training: 2.723845958709717 | Validation 2.742464065551758\n",
      "\n"
     ]
    },
    {
     "name": "stderr",
     "output_type": "stream",
     "text": [
      "237it [03:05,  1.28it/s]\n"
     ]
    },
    {
     "name": "stdout",
     "output_type": "stream",
     "text": [
      "EPOCH  5\n",
      "Training Losses: Mask: 0.9059581160545349, Gender: 0.6848992705345154, Age: 1.033925175666809\n"
     ]
    },
    {
     "name": "stderr",
     "output_type": "stream",
     "text": [
      "60it [00:22,  2.65it/s]\n",
      " 10%|█         | 5/50 [17:23<2:36:31, 208.70s/it]"
     ]
    },
    {
     "name": "stdout",
     "output_type": "stream",
     "text": [
      "Validation Losses: Mask: 0.8574856519699097, Gender: 0.6650964617729187, Age: 1.0168864727020264\n",
      "Average Losses — Training: 2.680536985397339 | Validation 2.6843082904815674\n",
      "\n"
     ]
    },
    {
     "name": "stderr",
     "output_type": "stream",
     "text": [
      "237it [03:05,  1.28it/s]\n"
     ]
    },
    {
     "name": "stdout",
     "output_type": "stream",
     "text": [
      "EPOCH  6\n",
      "Training Losses: Mask: 0.8413294553756714, Gender: 0.6821883916854858, Age: 1.0315096378326416\n"
     ]
    },
    {
     "name": "stderr",
     "output_type": "stream",
     "text": [
      "60it [00:22,  2.64it/s]\n",
      " 12%|█▏        | 6/50 [20:51<2:32:57, 208.57s/it]"
     ]
    },
    {
     "name": "stdout",
     "output_type": "stream",
     "text": [
      "Validation Losses: Mask: 0.8137642741203308, Gender: 0.6564885377883911, Age: 0.9998494386672974\n",
      "Average Losses — Training: 2.6427531242370605 | Validation 2.6469390392303467\n",
      "\n"
     ]
    },
    {
     "name": "stderr",
     "output_type": "stream",
     "text": [
      "237it [03:04,  1.28it/s]\n"
     ]
    },
    {
     "name": "stdout",
     "output_type": "stream",
     "text": [
      "EPOCH  7\n",
      "Training Losses: Mask: 0.8795864582061768, Gender: 0.6966513395309448, Age: 1.0363808870315552\n"
     ]
    },
    {
     "name": "stderr",
     "output_type": "stream",
     "text": [
      "60it [00:22,  2.63it/s]\n",
      " 14%|█▍        | 7/50 [24:18<2:29:14, 208.23s/it]"
     ]
    },
    {
     "name": "stdout",
     "output_type": "stream",
     "text": [
      "Validation Losses: Mask: 0.7954123616218567, Gender: 0.6540221571922302, Age: 0.9867725968360901\n",
      "Average Losses — Training: 2.60862398147583 | Validation 2.6107773780822754\n",
      "\n"
     ]
    },
    {
     "name": "stderr",
     "output_type": "stream",
     "text": [
      "237it [03:05,  1.28it/s]\n"
     ]
    },
    {
     "name": "stdout",
     "output_type": "stream",
     "text": [
      "EPOCH  8\n",
      "Training Losses: Mask: 0.7920135259628296, Gender: 0.6715044975280762, Age: 0.9603136777877808\n"
     ]
    },
    {
     "name": "stderr",
     "output_type": "stream",
     "text": [
      "60it [00:22,  2.63it/s]\n",
      " 16%|█▌        | 8/50 [27:47<2:25:50, 208.34s/it]"
     ]
    },
    {
     "name": "stdout",
     "output_type": "stream",
     "text": [
      "Validation Losses: Mask: 0.7548805475234985, Gender: 0.6422828435897827, Age: 0.975480318069458\n",
      "Average Losses — Training: 2.578350305557251 | Validation 2.5782196521759033\n",
      "\n"
     ]
    },
    {
     "name": "stderr",
     "output_type": "stream",
     "text": [
      "237it [03:05,  1.28it/s]\n"
     ]
    },
    {
     "name": "stdout",
     "output_type": "stream",
     "text": [
      "EPOCH  9\n",
      "Training Losses: Mask: 0.9203031063079834, Gender: 0.6741296052932739, Age: 0.9873455166816711\n"
     ]
    },
    {
     "name": "stderr",
     "output_type": "stream",
     "text": [
      "60it [00:22,  2.62it/s]\n",
      " 18%|█▊        | 9/50 [31:15<2:22:19, 208.28s/it]"
     ]
    },
    {
     "name": "stdout",
     "output_type": "stream",
     "text": [
      "Validation Losses: Mask: 0.7154421806335449, Gender: 0.6356608271598816, Age: 0.9679371118545532\n",
      "Average Losses — Training: 2.5518434047698975 | Validation 2.5526952743530273\n",
      "\n"
     ]
    },
    {
     "name": "stderr",
     "output_type": "stream",
     "text": [
      "237it [03:05,  1.28it/s]\n"
     ]
    },
    {
     "name": "stdout",
     "output_type": "stream",
     "text": [
      "EPOCH  10\n",
      "Training Losses: Mask: 0.9796398878097534, Gender: 0.6884486675262451, Age: 1.0689709186553955\n"
     ]
    },
    {
     "name": "stderr",
     "output_type": "stream",
     "text": [
      "60it [00:22,  2.64it/s]\n",
      " 20%|██        | 10/50 [34:43<2:18:48, 208.21s/it]"
     ]
    },
    {
     "name": "stdout",
     "output_type": "stream",
     "text": [
      "Validation Losses: Mask: 0.6890330910682678, Gender: 0.626949667930603, Age: 0.9492905735969543\n",
      "Average Losses — Training: 2.528568744659424 | Validation 2.5238280296325684\n",
      "\n"
     ]
    },
    {
     "name": "stderr",
     "output_type": "stream",
     "text": [
      "237it [03:04,  1.28it/s]\n"
     ]
    },
    {
     "name": "stdout",
     "output_type": "stream",
     "text": [
      "EPOCH  11\n",
      "Training Losses: Mask: 0.7309460639953613, Gender: 0.6688402891159058, Age: 0.9977291226387024\n"
     ]
    },
    {
     "name": "stderr",
     "output_type": "stream",
     "text": [
      "60it [00:22,  2.67it/s]\n",
      " 22%|██▏       | 11/50 [38:10<2:15:09, 207.93s/it]"
     ]
    },
    {
     "name": "stdout",
     "output_type": "stream",
     "text": [
      "Validation Losses: Mask: 0.6650530099868774, Gender: 0.6246356964111328, Age: 0.946750283241272\n",
      "Average Losses — Training: 2.5061962604522705 | Validation 2.507990837097168\n",
      "\n"
     ]
    },
    {
     "name": "stderr",
     "output_type": "stream",
     "text": [
      "237it [03:05,  1.28it/s]\n"
     ]
    },
    {
     "name": "stdout",
     "output_type": "stream",
     "text": [
      "EPOCH  12\n",
      "Training Losses: Mask: 0.8504210114479065, Gender: 0.6939007639884949, Age: 0.9617123603820801\n"
     ]
    },
    {
     "name": "stderr",
     "output_type": "stream",
     "text": [
      "60it [00:22,  2.64it/s]\n",
      " 24%|██▍       | 12/50 [41:38<2:11:43, 207.98s/it]"
     ]
    },
    {
     "name": "stdout",
     "output_type": "stream",
     "text": [
      "Validation Losses: Mask: 0.6762092709541321, Gender: 0.627496063709259, Age: 0.9451118111610413\n",
      "Average Losses — Training: 2.4874112606048584 | Validation 2.4916253089904785\n",
      "\n"
     ]
    },
    {
     "name": "stderr",
     "output_type": "stream",
     "text": [
      "237it [03:05,  1.28it/s]\n"
     ]
    },
    {
     "name": "stdout",
     "output_type": "stream",
     "text": [
      "EPOCH  13\n",
      "Training Losses: Mask: 0.8455033898353577, Gender: 0.655327320098877, Age: 0.952850878238678\n"
     ]
    },
    {
     "name": "stderr",
     "output_type": "stream",
     "text": [
      "60it [00:22,  2.67it/s]\n",
      " 26%|██▌       | 13/50 [45:06<2:08:15, 207.98s/it]"
     ]
    },
    {
     "name": "stdout",
     "output_type": "stream",
     "text": [
      "Validation Losses: Mask: 0.5919862985610962, Gender: 0.6070160269737244, Age: 0.917607307434082\n",
      "Average Losses — Training: 2.4697976112365723 | Validation 2.459709405899048\n",
      "\n"
     ]
    },
    {
     "name": "stderr",
     "output_type": "stream",
     "text": [
      "237it [03:05,  1.28it/s]\n"
     ]
    },
    {
     "name": "stdout",
     "output_type": "stream",
     "text": [
      "EPOCH  14\n",
      "Training Losses: Mask: 0.8559211492538452, Gender: 0.656797468662262, Age: 0.923708975315094\n"
     ]
    },
    {
     "name": "stderr",
     "output_type": "stream",
     "text": [
      "60it [00:22,  2.63it/s]\n",
      " 28%|██▊       | 14/50 [48:35<2:04:55, 208.21s/it]"
     ]
    },
    {
     "name": "stdout",
     "output_type": "stream",
     "text": [
      "Validation Losses: Mask: 0.6852151155471802, Gender: 0.6256805062294006, Age: 0.9474299550056458\n",
      "Average Losses — Training: 2.456023931503296 | Validation 2.529012441635132\n",
      "\n"
     ]
    },
    {
     "name": "stderr",
     "output_type": "stream",
     "text": [
      "237it [03:05,  1.28it/s]\n"
     ]
    },
    {
     "name": "stdout",
     "output_type": "stream",
     "text": [
      "EPOCH  15\n",
      "Training Losses: Mask: 0.9154938459396362, Gender: 0.6451462507247925, Age: 0.8982158303260803\n"
     ]
    },
    {
     "name": "stderr",
     "output_type": "stream",
     "text": [
      "60it [00:22,  2.68it/s]\n",
      " 30%|███       | 15/50 [52:03<2:01:23, 208.09s/it]"
     ]
    },
    {
     "name": "stdout",
     "output_type": "stream",
     "text": [
      "Validation Losses: Mask: 0.5702601671218872, Gender: 0.6006382703781128, Age: 0.9079747200012207\n",
      "Average Losses — Training: 2.4431426525115967 | Validation 2.4327430725097656\n",
      "\n"
     ]
    },
    {
     "name": "stderr",
     "output_type": "stream",
     "text": [
      "237it [03:06,  1.27it/s]\n"
     ]
    },
    {
     "name": "stdout",
     "output_type": "stream",
     "text": [
      "EPOCH  16\n",
      "Training Losses: Mask: 0.7135815620422363, Gender: 0.6603624224662781, Age: 0.9229931235313416\n"
     ]
    },
    {
     "name": "stderr",
     "output_type": "stream",
     "text": [
      "60it [00:23,  2.59it/s]\n",
      " 32%|███▏      | 16/50 [55:33<1:58:14, 208.67s/it]"
     ]
    },
    {
     "name": "stdout",
     "output_type": "stream",
     "text": [
      "Validation Losses: Mask: 0.5592606663703918, Gender: 0.5989230275154114, Age: 0.9014397859573364\n",
      "Average Losses — Training: 2.430525541305542 | Validation 2.4190175533294678\n",
      "\n"
     ]
    },
    {
     "name": "stderr",
     "output_type": "stream",
     "text": [
      "237it [03:05,  1.28it/s]\n"
     ]
    },
    {
     "name": "stdout",
     "output_type": "stream",
     "text": [
      "EPOCH  17\n",
      "Training Losses: Mask: 1.0393716096878052, Gender: 0.6786548495292664, Age: 0.9875813722610474\n"
     ]
    },
    {
     "name": "stderr",
     "output_type": "stream",
     "text": [
      "60it [00:22,  2.63it/s]\n",
      " 34%|███▍      | 17/50 [59:02<1:54:45, 208.64s/it]"
     ]
    },
    {
     "name": "stdout",
     "output_type": "stream",
     "text": [
      "Validation Losses: Mask: 0.538139820098877, Gender: 0.593799352645874, Age: 0.8889341950416565\n",
      "Average Losses — Training: 2.4222159385681152 | Validation 2.410170078277588\n",
      "\n"
     ]
    },
    {
     "name": "stderr",
     "output_type": "stream",
     "text": [
      "237it [03:04,  1.29it/s]\n"
     ]
    },
    {
     "name": "stdout",
     "output_type": "stream",
     "text": [
      "EPOCH  18\n",
      "Training Losses: Mask: 0.7942891716957092, Gender: 0.6297086477279663, Age: 0.962903618812561\n"
     ]
    },
    {
     "name": "stderr",
     "output_type": "stream",
     "text": [
      "60it [00:22,  2.71it/s]\n",
      " 36%|███▌      | 18/50 [1:02:28<1:50:55, 207.98s/it]"
     ]
    },
    {
     "name": "stdout",
     "output_type": "stream",
     "text": [
      "Validation Losses: Mask: 0.5238205194473267, Gender: 0.5912365913391113, Age: 0.8911299705505371\n",
      "Average Losses — Training: 2.411421298980713 | Validation 2.406980514526367\n",
      "\n"
     ]
    },
    {
     "name": "stderr",
     "output_type": "stream",
     "text": [
      "237it [03:02,  1.30it/s]\n"
     ]
    },
    {
     "name": "stdout",
     "output_type": "stream",
     "text": [
      "EPOCH  19\n",
      "Training Losses: Mask: 0.835741400718689, Gender: 0.7059593200683594, Age: 0.921715497970581\n"
     ]
    },
    {
     "name": "stderr",
     "output_type": "stream",
     "text": [
      "60it [00:22,  2.64it/s]\n",
      " 38%|███▊      | 19/50 [1:05:54<1:47:05, 207.26s/it]"
     ]
    },
    {
     "name": "stdout",
     "output_type": "stream",
     "text": [
      "Validation Losses: Mask: 0.48890411853790283, Gender: 0.5791035890579224, Age: 0.873859167098999\n",
      "Average Losses — Training: 2.402845859527588 | Validation 2.384166955947876\n",
      "\n"
     ]
    },
    {
     "name": "stderr",
     "output_type": "stream",
     "text": [
      "237it [03:04,  1.28it/s]\n"
     ]
    },
    {
     "name": "stdout",
     "output_type": "stream",
     "text": [
      "EPOCH  20\n",
      "Training Losses: Mask: 0.6716611385345459, Gender: 0.7122031450271606, Age: 0.9105889797210693\n"
     ]
    },
    {
     "name": "stderr",
     "output_type": "stream",
     "text": [
      "60it [00:22,  2.64it/s]\n",
      " 40%|████      | 20/50 [1:09:21<1:43:42, 207.41s/it]"
     ]
    },
    {
     "name": "stdout",
     "output_type": "stream",
     "text": [
      "Validation Losses: Mask: 0.5140388011932373, Gender: 0.583082914352417, Age: 0.8802833557128906\n",
      "Average Losses — Training: 2.394733428955078 | Validation 2.3874003887176514\n",
      "\n"
     ]
    },
    {
     "name": "stderr",
     "output_type": "stream",
     "text": [
      "237it [03:04,  1.28it/s]\n"
     ]
    },
    {
     "name": "stdout",
     "output_type": "stream",
     "text": [
      "EPOCH  21\n",
      "Training Losses: Mask: 0.8402178883552551, Gender: 0.6873791217803955, Age: 0.8462274670600891\n"
     ]
    },
    {
     "name": "stderr",
     "output_type": "stream",
     "text": [
      "60it [00:22,  2.62it/s]\n",
      " 42%|████▏     | 21/50 [1:12:49<1:40:19, 207.56s/it]"
     ]
    },
    {
     "name": "stdout",
     "output_type": "stream",
     "text": [
      "Validation Losses: Mask: 0.5057234168052673, Gender: 0.5807441473007202, Age: 0.8746854662895203\n",
      "Average Losses — Training: 2.3881752490997314 | Validation 2.3719072341918945\n",
      "\n"
     ]
    },
    {
     "name": "stderr",
     "output_type": "stream",
     "text": [
      "237it [03:06,  1.27it/s]\n"
     ]
    },
    {
     "name": "stdout",
     "output_type": "stream",
     "text": [
      "EPOCH  22\n",
      "Training Losses: Mask: 0.7583243250846863, Gender: 0.6085777282714844, Age: 0.9040260314941406\n"
     ]
    },
    {
     "name": "stderr",
     "output_type": "stream",
     "text": [
      "60it [00:22,  2.66it/s]\n",
      " 44%|████▍     | 22/50 [1:16:19<1:37:06, 208.10s/it]"
     ]
    },
    {
     "name": "stdout",
     "output_type": "stream",
     "text": [
      "Validation Losses: Mask: 0.4686264991760254, Gender: 0.5685462355613708, Age: 0.8617002367973328\n",
      "Average Losses — Training: 2.381338119506836 | Validation 2.3697454929351807\n",
      "\n"
     ]
    },
    {
     "name": "stderr",
     "output_type": "stream",
     "text": [
      "237it [03:03,  1.29it/s]\n"
     ]
    },
    {
     "name": "stdout",
     "output_type": "stream",
     "text": [
      "EPOCH  23\n",
      "Training Losses: Mask: 0.7985943555831909, Gender: 0.6692049503326416, Age: 0.908146321773529\n"
     ]
    },
    {
     "name": "stderr",
     "output_type": "stream",
     "text": [
      "60it [00:23,  2.61it/s]\n",
      " 46%|████▌     | 23/50 [1:19:45<1:33:28, 207.70s/it]"
     ]
    },
    {
     "name": "stdout",
     "output_type": "stream",
     "text": [
      "Validation Losses: Mask: 0.5742737650871277, Gender: 0.5939311981201172, Age: 0.8918923139572144\n",
      "Average Losses — Training: 2.3766703605651855 | Validation 2.4240305423736572\n",
      "\n"
     ]
    },
    {
     "name": "stderr",
     "output_type": "stream",
     "text": [
      "237it [03:04,  1.28it/s]\n"
     ]
    },
    {
     "name": "stdout",
     "output_type": "stream",
     "text": [
      "EPOCH  24\n",
      "Training Losses: Mask: 0.8334885239601135, Gender: 0.6236131191253662, Age: 0.825131893157959\n"
     ]
    },
    {
     "name": "stderr",
     "output_type": "stream",
     "text": [
      "60it [00:23,  2.58it/s]\n",
      " 48%|████▊     | 24/50 [1:23:14<1:30:03, 207.83s/it]"
     ]
    },
    {
     "name": "stdout",
     "output_type": "stream",
     "text": [
      "Validation Losses: Mask: 0.47694653272628784, Gender: 0.5707210302352905, Age: 0.8590905666351318\n",
      "Average Losses — Training: 2.371364116668701 | Validation 2.3615336418151855\n",
      "\n"
     ]
    },
    {
     "name": "stderr",
     "output_type": "stream",
     "text": [
      "237it [03:05,  1.28it/s]\n"
     ]
    },
    {
     "name": "stdout",
     "output_type": "stream",
     "text": [
      "EPOCH  25\n",
      "Training Losses: Mask: 0.5641599893569946, Gender: 0.6319767832756042, Age: 0.9792112708091736\n"
     ]
    },
    {
     "name": "stderr",
     "output_type": "stream",
     "text": [
      "60it [00:23,  2.60it/s]\n",
      " 50%|█████     | 25/50 [1:26:43<1:26:44, 208.18s/it]"
     ]
    },
    {
     "name": "stdout",
     "output_type": "stream",
     "text": [
      "Validation Losses: Mask: 0.4537825882434845, Gender: 0.5651065111160278, Age: 0.8529748916625977\n",
      "Average Losses — Training: 2.365579605102539 | Validation 2.351010799407959\n",
      "\n"
     ]
    },
    {
     "name": "stderr",
     "output_type": "stream",
     "text": [
      "237it [03:04,  1.28it/s]\n"
     ]
    },
    {
     "name": "stdout",
     "output_type": "stream",
     "text": [
      "EPOCH  26\n",
      "Training Losses: Mask: 0.7053449749946594, Gender: 0.7563350796699524, Age: 0.8393797874450684\n"
     ]
    },
    {
     "name": "stderr",
     "output_type": "stream",
     "text": [
      "60it [00:22,  2.65it/s]\n",
      " 52%|█████▏    | 26/50 [1:30:10<1:23:10, 207.95s/it]"
     ]
    },
    {
     "name": "stdout",
     "output_type": "stream",
     "text": [
      "Validation Losses: Mask: 0.44431906938552856, Gender: 0.5575012564659119, Age: 0.8481936454772949\n",
      "Average Losses — Training: 2.3609471321105957 | Validation 2.3479838371276855\n",
      "\n"
     ]
    },
    {
     "name": "stderr",
     "output_type": "stream",
     "text": [
      "237it [03:04,  1.29it/s]\n"
     ]
    },
    {
     "name": "stdout",
     "output_type": "stream",
     "text": [
      "EPOCH  27\n",
      "Training Losses: Mask: 0.8139256238937378, Gender: 0.6348917484283447, Age: 1.0431073904037476\n"
     ]
    },
    {
     "name": "stderr",
     "output_type": "stream",
     "text": [
      "60it [00:22,  2.62it/s]\n",
      " 54%|█████▍    | 27/50 [1:33:37<1:19:39, 207.80s/it]"
     ]
    },
    {
     "name": "stdout",
     "output_type": "stream",
     "text": [
      "Validation Losses: Mask: 0.43305882811546326, Gender: 0.5514923334121704, Age: 0.836877167224884\n",
      "Average Losses — Training: 2.3574652671813965 | Validation 2.3373801708221436\n",
      "\n"
     ]
    },
    {
     "name": "stderr",
     "output_type": "stream",
     "text": [
      "237it [03:05,  1.27it/s]\n"
     ]
    },
    {
     "name": "stdout",
     "output_type": "stream",
     "text": [
      "EPOCH  28\n",
      "Training Losses: Mask: 0.7005216479301453, Gender: 0.7299374341964722, Age: 0.8776335716247559\n"
     ]
    },
    {
     "name": "stderr",
     "output_type": "stream",
     "text": [
      "60it [00:22,  2.65it/s]\n",
      " 56%|█████▌    | 28/50 [1:37:06<1:16:17, 208.08s/it]"
     ]
    },
    {
     "name": "stdout",
     "output_type": "stream",
     "text": [
      "Validation Losses: Mask: 0.43324434757232666, Gender: 0.5522904992103577, Age: 0.8326855301856995\n",
      "Average Losses — Training: 2.353070020675659 | Validation 2.3291075229644775\n",
      "\n"
     ]
    },
    {
     "name": "stderr",
     "output_type": "stream",
     "text": [
      "237it [03:04,  1.28it/s]\n"
     ]
    },
    {
     "name": "stdout",
     "output_type": "stream",
     "text": [
      "EPOCH  29\n",
      "Training Losses: Mask: 0.6573880910873413, Gender: 0.6733723878860474, Age: 0.8845828175544739\n"
     ]
    },
    {
     "name": "stderr",
     "output_type": "stream",
     "text": [
      "60it [00:23,  2.60it/s]\n",
      " 58%|█████▊    | 29/50 [1:40:34<1:12:49, 208.09s/it]"
     ]
    },
    {
     "name": "stdout",
     "output_type": "stream",
     "text": [
      "Validation Losses: Mask: 0.4452942907810211, Gender: 0.5530465841293335, Age: 0.8322859406471252\n",
      "Average Losses — Training: 2.348809003829956 | Validation 2.328230381011963\n",
      "\n"
     ]
    },
    {
     "name": "stderr",
     "output_type": "stream",
     "text": [
      "237it [03:05,  1.28it/s]\n"
     ]
    },
    {
     "name": "stdout",
     "output_type": "stream",
     "text": [
      "EPOCH  30\n",
      "Training Losses: Mask: 0.8654903173446655, Gender: 0.7506468296051025, Age: 0.9071874022483826\n"
     ]
    },
    {
     "name": "stderr",
     "output_type": "stream",
     "text": [
      "60it [00:23,  2.55it/s]\n",
      " 60%|██████    | 30/50 [1:44:03<1:09:27, 208.37s/it]"
     ]
    },
    {
     "name": "stdout",
     "output_type": "stream",
     "text": [
      "Validation Losses: Mask: 0.4359717071056366, Gender: 0.5497173070907593, Age: 0.8280510306358337\n",
      "Average Losses — Training: 2.345846176147461 | Validation 2.3327856063842773\n",
      "\n"
     ]
    },
    {
     "name": "stderr",
     "output_type": "stream",
     "text": [
      "237it [03:04,  1.28it/s]\n"
     ]
    },
    {
     "name": "stdout",
     "output_type": "stream",
     "text": [
      "EPOCH  31\n",
      "Training Losses: Mask: 0.7016223669052124, Gender: 0.6032354831695557, Age: 1.0010855197906494\n"
     ]
    },
    {
     "name": "stderr",
     "output_type": "stream",
     "text": [
      "60it [00:23,  2.59it/s]\n",
      " 62%|██████▏   | 31/50 [1:47:32<1:05:58, 208.36s/it]"
     ]
    },
    {
     "name": "stdout",
     "output_type": "stream",
     "text": [
      "Validation Losses: Mask: 0.43904513120651245, Gender: 0.5507844686508179, Age: 0.8292624354362488\n",
      "Average Losses — Training: 2.3416545391082764 | Validation 2.3195621967315674\n",
      "\n"
     ]
    },
    {
     "name": "stderr",
     "output_type": "stream",
     "text": [
      "237it [03:06,  1.27it/s]\n"
     ]
    },
    {
     "name": "stdout",
     "output_type": "stream",
     "text": [
      "EPOCH  32\n",
      "Training Losses: Mask: 0.7275838851928711, Gender: 0.7066283226013184, Age: 1.166388750076294\n"
     ]
    },
    {
     "name": "stderr",
     "output_type": "stream",
     "text": [
      "60it [00:23,  2.61it/s]\n",
      " 64%|██████▍   | 32/50 [1:51:01<1:02:35, 208.64s/it]"
     ]
    },
    {
     "name": "stdout",
     "output_type": "stream",
     "text": [
      "Validation Losses: Mask: 0.3815290629863739, Gender: 0.5304450988769531, Age: 0.8136125206947327\n",
      "Average Losses — Training: 2.3386571407318115 | Validation 2.313699245452881\n",
      "\n"
     ]
    },
    {
     "name": "stderr",
     "output_type": "stream",
     "text": [
      "237it [03:05,  1.28it/s]\n"
     ]
    },
    {
     "name": "stdout",
     "output_type": "stream",
     "text": [
      "EPOCH  33\n",
      "Training Losses: Mask: 0.4675760269165039, Gender: 0.6641029715538025, Age: 0.8692193031311035\n"
     ]
    },
    {
     "name": "stderr",
     "output_type": "stream",
     "text": [
      "60it [00:22,  2.66it/s]\n",
      " 66%|██████▌   | 33/50 [1:54:29<59:04, 208.48s/it]  "
     ]
    },
    {
     "name": "stdout",
     "output_type": "stream",
     "text": [
      "Validation Losses: Mask: 0.42690348625183105, Gender: 0.542884349822998, Age: 0.8256813883781433\n",
      "Average Losses — Training: 2.334665536880493 | Validation 2.31618070602417\n",
      "\n"
     ]
    },
    {
     "name": "stderr",
     "output_type": "stream",
     "text": [
      "237it [03:04,  1.28it/s]\n"
     ]
    },
    {
     "name": "stdout",
     "output_type": "stream",
     "text": [
      "EPOCH  34\n",
      "Training Losses: Mask: 0.5679254531860352, Gender: 0.6759011745452881, Age: 0.9331670999526978\n"
     ]
    },
    {
     "name": "stderr",
     "output_type": "stream",
     "text": [
      "60it [00:22,  2.63it/s]\n",
      " 68%|██████▊   | 34/50 [1:57:57<55:33, 208.33s/it]"
     ]
    },
    {
     "name": "stdout",
     "output_type": "stream",
     "text": [
      "Validation Losses: Mask: 0.43764710426330566, Gender: 0.5454068779945374, Age: 0.8248884081840515\n",
      "Average Losses — Training: 2.3313372135162354 | Validation 2.3156795501708984\n",
      "\n"
     ]
    },
    {
     "name": "stderr",
     "output_type": "stream",
     "text": [
      "237it [03:04,  1.28it/s]\n"
     ]
    },
    {
     "name": "stdout",
     "output_type": "stream",
     "text": [
      "EPOCH  35\n",
      "Training Losses: Mask: 0.9444387555122375, Gender: 0.713428258895874, Age: 0.8746055364608765\n"
     ]
    },
    {
     "name": "stderr",
     "output_type": "stream",
     "text": [
      "60it [00:23,  2.60it/s]\n",
      " 70%|███████   | 35/50 [2:01:25<52:03, 208.21s/it]"
     ]
    },
    {
     "name": "stdout",
     "output_type": "stream",
     "text": [
      "Validation Losses: Mask: 0.4524999260902405, Gender: 0.5459667444229126, Age: 0.8309333324432373\n",
      "Average Losses — Training: 2.330446481704712 | Validation 2.31746768951416\n",
      "\n"
     ]
    },
    {
     "name": "stderr",
     "output_type": "stream",
     "text": [
      "237it [03:04,  1.28it/s]\n"
     ]
    },
    {
     "name": "stdout",
     "output_type": "stream",
     "text": [
      "EPOCH  36\n",
      "Training Losses: Mask: 0.7632575631141663, Gender: 0.7106192111968994, Age: 0.971872091293335\n"
     ]
    },
    {
     "name": "stderr",
     "output_type": "stream",
     "text": [
      "60it [00:23,  2.59it/s]\n",
      " 72%|███████▏  | 36/50 [2:04:53<48:34, 208.20s/it]"
     ]
    },
    {
     "name": "stdout",
     "output_type": "stream",
     "text": [
      "Validation Losses: Mask: 0.4234448969364166, Gender: 0.5385941863059998, Age: 0.8193173408508301\n",
      "Average Losses — Training: 2.326169729232788 | Validation 2.3062469959259033\n",
      "\n"
     ]
    },
    {
     "name": "stderr",
     "output_type": "stream",
     "text": [
      "237it [03:03,  1.29it/s]\n"
     ]
    },
    {
     "name": "stdout",
     "output_type": "stream",
     "text": [
      "EPOCH  37\n",
      "Training Losses: Mask: 0.8072341680526733, Gender: 0.8162865042686462, Age: 1.0772604942321777\n"
     ]
    },
    {
     "name": "stderr",
     "output_type": "stream",
     "text": [
      "60it [00:22,  2.72it/s]\n",
      " 74%|███████▍  | 37/50 [2:08:19<44:56, 207.39s/it]"
     ]
    },
    {
     "name": "stdout",
     "output_type": "stream",
     "text": [
      "Validation Losses: Mask: 0.39226233959198, Gender: 0.5266368389129639, Age: 0.8037583231925964\n",
      "Average Losses — Training: 2.324983835220337 | Validation 2.304593563079834\n",
      "\n"
     ]
    },
    {
     "name": "stderr",
     "output_type": "stream",
     "text": [
      "237it [03:06,  1.27it/s]\n"
     ]
    },
    {
     "name": "stdout",
     "output_type": "stream",
     "text": [
      "EPOCH  38\n",
      "Training Losses: Mask: 0.7633765935897827, Gender: 0.615209698677063, Age: 1.0569790601730347\n"
     ]
    },
    {
     "name": "stderr",
     "output_type": "stream",
     "text": [
      "60it [00:22,  2.65it/s]\n",
      " 76%|███████▌  | 38/50 [2:11:48<41:36, 208.06s/it]"
     ]
    },
    {
     "name": "stdout",
     "output_type": "stream",
     "text": [
      "Validation Losses: Mask: 0.4420963227748871, Gender: 0.5404288172721863, Age: 0.8127400279045105\n",
      "Average Losses — Training: 2.3205041885375977 | Validation 2.3074676990509033\n",
      "\n"
     ]
    },
    {
     "name": "stderr",
     "output_type": "stream",
     "text": [
      "237it [03:04,  1.29it/s]\n"
     ]
    },
    {
     "name": "stdout",
     "output_type": "stream",
     "text": [
      "EPOCH  39\n",
      "Training Losses: Mask: 0.9097666144371033, Gender: 0.6327590942382812, Age: 0.7807864546775818\n"
     ]
    },
    {
     "name": "stderr",
     "output_type": "stream",
     "text": [
      "60it [00:23,  2.59it/s]\n",
      " 78%|███████▊  | 39/50 [2:15:16<38:07, 207.93s/it]"
     ]
    },
    {
     "name": "stdout",
     "output_type": "stream",
     "text": [
      "Validation Losses: Mask: 0.4313395619392395, Gender: 0.5383138656616211, Age: 0.8129855990409851\n",
      "Average Losses — Training: 2.318202018737793 | Validation 2.3047120571136475\n",
      "\n"
     ]
    },
    {
     "name": "stderr",
     "output_type": "stream",
     "text": [
      "237it [03:07,  1.26it/s]\n"
     ]
    },
    {
     "name": "stdout",
     "output_type": "stream",
     "text": [
      "EPOCH  40\n",
      "Training Losses: Mask: 0.6174795031547546, Gender: 0.7109133005142212, Age: 0.772313117980957\n"
     ]
    },
    {
     "name": "stderr",
     "output_type": "stream",
     "text": [
      "60it [00:23,  2.57it/s]\n",
      " 80%|████████  | 40/50 [2:18:47<34:48, 208.82s/it]"
     ]
    },
    {
     "name": "stdout",
     "output_type": "stream",
     "text": [
      "Validation Losses: Mask: 0.3707153797149658, Gender: 0.5182262063026428, Age: 0.8031895160675049\n",
      "Average Losses — Training: 2.315218687057495 | Validation 2.2917397022247314\n",
      "\n"
     ]
    },
    {
     "name": "stderr",
     "output_type": "stream",
     "text": [
      "237it [03:03,  1.29it/s]\n"
     ]
    },
    {
     "name": "stdout",
     "output_type": "stream",
     "text": [
      "EPOCH  41\n",
      "Training Losses: Mask: 0.8562492728233337, Gender: 0.6500831842422485, Age: 1.0618410110473633\n"
     ]
    },
    {
     "name": "stderr",
     "output_type": "stream",
     "text": [
      "60it [00:23,  2.60it/s]\n",
      " 82%|████████▏ | 41/50 [2:22:13<31:13, 208.13s/it]"
     ]
    },
    {
     "name": "stdout",
     "output_type": "stream",
     "text": [
      "Validation Losses: Mask: 0.36013129353523254, Gender: 0.5137556791305542, Age: 0.7999187111854553\n",
      "Average Losses — Training: 2.3129794597625732 | Validation 2.2897653579711914\n",
      "\n"
     ]
    },
    {
     "name": "stderr",
     "output_type": "stream",
     "text": [
      "237it [03:05,  1.28it/s]\n"
     ]
    },
    {
     "name": "stdout",
     "output_type": "stream",
     "text": [
      "EPOCH  42\n",
      "Training Losses: Mask: 1.02791166305542, Gender: 0.6404691338539124, Age: 0.7923053503036499\n"
     ]
    },
    {
     "name": "stderr",
     "output_type": "stream",
     "text": [
      "60it [00:22,  2.62it/s]\n",
      " 84%|████████▍ | 42/50 [2:25:42<27:45, 208.17s/it]"
     ]
    },
    {
     "name": "stdout",
     "output_type": "stream",
     "text": [
      "Validation Losses: Mask: 0.3818545341491699, Gender: 0.5191835761070251, Age: 0.7955071926116943\n",
      "Average Losses — Training: 2.3103742599487305 | Validation 2.2892138957977295\n",
      "\n"
     ]
    },
    {
     "name": "stderr",
     "output_type": "stream",
     "text": [
      "237it [03:05,  1.28it/s]\n"
     ]
    },
    {
     "name": "stdout",
     "output_type": "stream",
     "text": [
      "EPOCH  43\n",
      "Training Losses: Mask: 0.6579512357711792, Gender: 0.6720241904258728, Age: 0.8783194422721863\n"
     ]
    },
    {
     "name": "stderr",
     "output_type": "stream",
     "text": [
      "60it [00:23,  2.60it/s]\n",
      " 86%|████████▌ | 43/50 [2:29:10<24:18, 208.31s/it]"
     ]
    },
    {
     "name": "stdout",
     "output_type": "stream",
     "text": [
      "Validation Losses: Mask: 0.3877202272415161, Gender: 0.5176868438720703, Age: 0.7947731018066406\n",
      "Average Losses — Training: 2.307311773300171 | Validation 2.2841737270355225\n",
      "\n"
     ]
    },
    {
     "name": "stderr",
     "output_type": "stream",
     "text": [
      "237it [03:01,  1.30it/s]\n"
     ]
    },
    {
     "name": "stdout",
     "output_type": "stream",
     "text": [
      "EPOCH  44\n",
      "Training Losses: Mask: 0.6768824458122253, Gender: 0.6204638481140137, Age: 0.7964165806770325\n"
     ]
    },
    {
     "name": "stderr",
     "output_type": "stream",
     "text": [
      "60it [00:22,  2.68it/s]\n",
      " 88%|████████▊ | 44/50 [2:32:34<20:42, 207.08s/it]"
     ]
    },
    {
     "name": "stdout",
     "output_type": "stream",
     "text": [
      "Validation Losses: Mask: 0.38261109590530396, Gender: 0.5165140628814697, Age: 0.8000912666320801\n",
      "Average Losses — Training: 2.304316520690918 | Validation 2.283902883529663\n",
      "\n"
     ]
    },
    {
     "name": "stderr",
     "output_type": "stream",
     "text": [
      "237it [03:02,  1.30it/s]\n"
     ]
    },
    {
     "name": "stdout",
     "output_type": "stream",
     "text": [
      "EPOCH  45\n",
      "Training Losses: Mask: 0.6295992732048035, Gender: 0.6388379335403442, Age: 0.8470137119293213\n"
     ]
    },
    {
     "name": "stderr",
     "output_type": "stream",
     "text": [
      "60it [00:22,  2.68it/s]\n",
      " 90%|█████████ | 45/50 [2:35:59<17:12, 206.48s/it]"
     ]
    },
    {
     "name": "stdout",
     "output_type": "stream",
     "text": [
      "Validation Losses: Mask: 0.3718549311161041, Gender: 0.5107477903366089, Age: 0.7886978387832642\n",
      "Average Losses — Training: 2.301814556121826 | Validation 2.2787771224975586\n",
      "\n"
     ]
    },
    {
     "name": "stderr",
     "output_type": "stream",
     "text": [
      "237it [03:01,  1.31it/s]\n"
     ]
    },
    {
     "name": "stdout",
     "output_type": "stream",
     "text": [
      "EPOCH  46\n",
      "Training Losses: Mask: 0.6016642451286316, Gender: 0.6681079268455505, Age: 0.8477542400360107\n"
     ]
    },
    {
     "name": "stderr",
     "output_type": "stream",
     "text": [
      "60it [00:22,  2.63it/s]\n",
      " 92%|█████████▏| 46/50 [2:39:24<13:43, 205.87s/it]"
     ]
    },
    {
     "name": "stdout",
     "output_type": "stream",
     "text": [
      "Validation Losses: Mask: 0.35857030749320984, Gender: 0.5057686567306519, Age: 0.7867904901504517\n",
      "Average Losses — Training: 2.299471855163574 | Validation 2.273200035095215\n",
      "\n"
     ]
    },
    {
     "name": "stderr",
     "output_type": "stream",
     "text": [
      "237it [03:04,  1.28it/s]\n"
     ]
    },
    {
     "name": "stdout",
     "output_type": "stream",
     "text": [
      "EPOCH  47\n",
      "Training Losses: Mask: 0.7294327020645142, Gender: 0.703241765499115, Age: 0.849421501159668\n"
     ]
    },
    {
     "name": "stderr",
     "output_type": "stream",
     "text": [
      "60it [00:23,  2.59it/s]\n",
      " 94%|█████████▍| 47/50 [2:42:52<10:19, 206.49s/it]"
     ]
    },
    {
     "name": "stdout",
     "output_type": "stream",
     "text": [
      "Validation Losses: Mask: 0.37557268142700195, Gender: 0.5105935335159302, Age: 0.7856965065002441\n",
      "Average Losses — Training: 2.2962589263916016 | Validation 2.271510124206543\n",
      "\n"
     ]
    },
    {
     "name": "stderr",
     "output_type": "stream",
     "text": [
      "237it [03:03,  1.29it/s]\n"
     ]
    },
    {
     "name": "stdout",
     "output_type": "stream",
     "text": [
      "EPOCH  48\n",
      "Training Losses: Mask: 0.4530203938484192, Gender: 0.7047752141952515, Age: 0.881993293762207\n"
     ]
    },
    {
     "name": "stderr",
     "output_type": "stream",
     "text": [
      "60it [00:22,  2.67it/s]\n",
      " 96%|█████████▌| 48/50 [2:46:18<06:52, 206.40s/it]"
     ]
    },
    {
     "name": "stdout",
     "output_type": "stream",
     "text": [
      "Validation Losses: Mask: 0.3828236758708954, Gender: 0.51036536693573, Age: 0.7838050127029419\n",
      "Average Losses — Training: 2.294656991958618 | Validation 2.2728843688964844\n",
      "\n"
     ]
    },
    {
     "name": "stderr",
     "output_type": "stream",
     "text": [
      "237it [03:05,  1.27it/s]\n"
     ]
    },
    {
     "name": "stdout",
     "output_type": "stream",
     "text": [
      "EPOCH  49\n",
      "Training Losses: Mask: 0.7364671230316162, Gender: 0.6619755029678345, Age: 0.7614346742630005\n"
     ]
    },
    {
     "name": "stderr",
     "output_type": "stream",
     "text": [
      "60it [00:22,  2.65it/s]\n",
      " 98%|█████████▊| 49/50 [2:49:47<03:27, 207.11s/it]"
     ]
    },
    {
     "name": "stdout",
     "output_type": "stream",
     "text": [
      "Validation Losses: Mask: 0.3739004135131836, Gender: 0.5079384446144104, Age: 0.7802101373672485\n",
      "Average Losses — Training: 2.2917754650115967 | Validation 2.267841100692749\n",
      "\n"
     ]
    },
    {
     "name": "stderr",
     "output_type": "stream",
     "text": [
      "237it [03:02,  1.30it/s]\n"
     ]
    },
    {
     "name": "stdout",
     "output_type": "stream",
     "text": [
      "EPOCH  50\n",
      "Training Losses: Mask: 0.6091499924659729, Gender: 0.6791340112686157, Age: 1.089089274406433\n"
     ]
    },
    {
     "name": "stderr",
     "output_type": "stream",
     "text": [
      "60it [00:21,  2.75it/s]\n",
      "100%|██████████| 50/50 [2:53:11<00:00, 207.84s/it]"
     ]
    },
    {
     "name": "stdout",
     "output_type": "stream",
     "text": [
      "Validation Losses: Mask: 0.35949546098709106, Gender: 0.5004907250404358, Age: 0.7822237014770508\n",
      "Average Losses — Training: 2.2904794216156006 | Validation 2.2615082263946533\n",
      "\n"
     ]
    },
    {
     "name": "stderr",
     "output_type": "stream",
     "text": [
      "\n"
     ]
    }
   ],
   "source": [
    "sig = nn.Sigmoid()\n",
    "\n",
    "for epoch in tqdm(range(n_epochs)):\n",
    "    model.train()\n",
    "\n",
    "    total_training_loss = 0\n",
    "    total_validation_loss = 0\n",
    "    training_gender_loss = 0\n",
    "    training_mask_loss = 0\n",
    "    training_age_loss = 0\n",
    "    validation_gender_loss = 0\n",
    "    validation_mask_loss = 0\n",
    "    validation_age_loss = 0\n",
    "\n",
    "    for i, data in tqdm(enumerate(train_loader)):\n",
    "        \n",
    "        inputs = data[\"image\"].to(device=device)\n",
    "\n",
    "        age_label = data[\"age\"].to(device=device)\n",
    "        gender_label = data[\"gender\"].to(device=device)\n",
    "        mask_label = data[\"mask\"].to(device=device)\n",
    "\n",
    "        optimizer.zero_grad()\n",
    "        age_output, gender_output, mask_output = net(inputs)\n",
    "        #print(type(age_label.unsqueeze(1)))\n",
    "        #print(age_output.shape, age_label.shape)\n",
    "\n",
    "        loss_1 = age_loss(age_output, age_label)\n",
    "        loss_2 = gender_loss(sig(gender_output), gender_label.unsqueeze(1).float())\n",
    "        loss_3 = mask_loss(mask_output, mask_label)\n",
    "        \n",
    "        loss = loss_1 + loss_2 + loss_3\n",
    "\n",
    "        loss.backward()\n",
    "        optimizer.step()\n",
    "        total_training_loss += loss\n",
    "\n",
    "        training_age_loss += loss_1.item()\n",
    "        training_gender_loss += loss_2.item()\n",
    "        training_mask_loss += loss_3.item()\n",
    "        \n",
    "        \n",
    "\n",
    "    print('EPOCH ', epoch+1)\n",
    "    print(\"Training Losses: Mask: {}, Gender: {}, Age: {}\".format(loss_3, loss_2, loss_1))\n",
    "\n",
    "    with torch.no_grad():\n",
    "        model.eval()\n",
    "\n",
    "        for i, data in tqdm(enumerate(val_loader)):\n",
    "            inputs = data[\"image\"].to(device=device)\n",
    "\n",
    "            age_label = data[\"age\"].to(device=device)\n",
    "            gender_label = data[\"gender\"].to(device=device)\n",
    "            mask_label =  data[\"mask\"].to(device=device)\n",
    "            age_output, gender_output, mask_output = net(inputs)\n",
    "            # print(age_output, age_label.unsqueeze(1).float())\n",
    "            loss_1 = age_loss(age_output, age_label)\n",
    "            loss_2 = gender_loss(sig(gender_output), gender_label.unsqueeze(1).float())\n",
    "            loss_3 = mask_loss(mask_output, mask_label)\n",
    "\n",
    "            loss = loss_1 + loss_2 + loss_3\n",
    "            total_validation_loss += loss\n",
    "            \n",
    "            validation_age_loss += loss_1.item()\n",
    "            validation_gender_loss += loss_2.item()\n",
    "            validation_mask_loss += loss_3.item()\n",
    "            \n",
    "            \n",
    "        print(\"Validation Losses: Mask: {}, Gender: {}, Age: {}\".format(loss_3, loss_2, loss_1))\n",
    "\n",
    "    avgTrainLoss = total_training_loss / train_steps\n",
    "    avgValLoss = total_validation_loss / val_steps\n",
    "    \n",
    "    print('Average Losses — Training: {} | Validation {}'.format(avgTrainLoss, avgValLoss))\n",
    "    print() \n",
    "    avgTrainGenderLoss = training_gender_loss/len(train_loader.dataset)\n",
    "    avgTrainMaskLoss = training_mask_loss/len(train_loader.dataset)\n",
    "    avgTrainAgeLoss = training_age_loss/len(train_loader.dataset)\n",
    "\n",
    "    avgValGenderLoss = validation_gender_loss/len(val_loader.dataset)\n",
    "    avgValMaskLoss = validation_mask_loss/len(val_loader.dataset)\n",
    "    avgValAgeLoss = validation_age_loss/len(val_loader.dataset)\n",
    "\n",
    "    logger[\"train_loss\"].append(avgTrainLoss.cpu().detach().numpy())\n",
    "    logger[\"train_gender_loss\"].append(avgTrainGenderLoss)\n",
    "    logger[\"train_mask_loss\"].append(avgTrainMaskLoss)\n",
    "    logger[\"train_age_loss\"].append(avgTrainAgeLoss)\n",
    "    \n",
    "    logger[\"validation_loss\"].append(avgValLoss.cpu().detach().numpy())\n",
    "    logger[\"validation_gender_loss\"].append(avgValGenderLoss)\n",
    "    logger[\"validation_mask_loss\"].append(avgValMaskLoss)\n",
    "    logger[\"validation_age_loss\"].append(avgValAgeLoss)"
   ]
  },
  {
   "attachments": {},
   "cell_type": "markdown",
   "id": "1587775c",
   "metadata": {},
   "source": [
    "## Train, Valid Loss plot "
   ]
  },
  {
   "cell_type": "code",
   "execution_count": 21,
   "id": "7d57e60b",
   "metadata": {},
   "outputs": [
    {
     "data": {
      "image/png": "[encoded data removed]",
      "text/plain": [
       "<Figure size 432x288 with 1 Axes>"
      ]
     },
     "metadata": {
      "needs_background": "light"
     },
     "output_type": "display_data"
    }
   ],
   "source": [
    "plt.plot(logger[\"train_loss\"])\n",
    "plt.plot(logger[\"validation_loss\"])\n",
    "plt.legend(['Train','Valid'])\n",
    "plt.xlabel('Epoch')\n",
    "plt.ylabel('Loss')\n",
    "plt.show()"
   ]
  },
  {
   "cell_type": "code",
   "execution_count": 22,
   "id": "ccf0e262",
   "metadata": {},
   "outputs": [
    {
     "data": {
      "image/png": "[encoded data removed]",
      "text/plain": [
       "<Figure size 432x288 with 1 Axes>"
      ]
     },
     "metadata": {
      "needs_background": "light"
     },
     "output_type": "display_data"
    }
   ],
   "source": [
    "plt.plot(logger[\"train_gender_loss\"])\n",
    "plt.plot(logger[\"validation_gender_loss\"])\n",
    "plt.legend(['Train','Valid'])\n",
    "plt.xlabel('Epoch')\n",
    "plt.ylabel('Loss')\n",
    "plt.show()"
   ]
  },
  {
   "cell_type": "code",
   "execution_count": 23,
   "id": "5f2275a4",
   "metadata": {},
   "outputs": [
    {
     "data": {
      "image/png": "[encoded data removed]",
      "text/plain": [
       "<Figure size 432x288 with 1 Axes>"
      ]
     },
     "metadata": {
      "needs_background": "light"
     },
     "output_type": "display_data"
    }
   ],
   "source": [
    "plt.plot(logger[\"train_mask_loss\"])\n",
    "plt.plot(logger[\"validation_mask_loss\"])\n",
    "plt.legend(['Train','Valid'])\n",
    "plt.xlabel('Epoch')\n",
    "plt.ylabel('Loss')\n",
    "plt.show()"
   ]
  },
  {
   "cell_type": "code",
   "execution_count": 24,
   "id": "dcbf8df2",
   "metadata": {},
   "outputs": [
    {
     "data": {
      "image/png": "[encoded data removed]",
      "text/plain": [
       "<Figure size 432x288 with 1 Axes>"
      ]
     },
     "metadata": {
      "needs_background": "light"
     },
     "output_type": "display_data"
    }
   ],
   "source": [
    "plt.plot(logger[\"train_age_loss\"])\n",
    "plt.plot(logger[\"validation_age_loss\"])\n",
    "plt.legend(['Train','Valid'])\n",
    "plt.xlabel('Epoch')\n",
    "plt.ylabel('Loss')\n",
    "plt.show()"
   ]
  },
  {
   "cell_type": "code",
   "execution_count": 25,
   "id": "f072a432",
   "metadata": {},
   "outputs": [],
   "source": [
    "torch.save(net, \"checkpoint/resnet50_50epochs.pth\")"
   ]
  },
  {
   "cell_type": "code",
   "execution_count": 26,
   "id": "f002373d",
   "metadata": {},
   "outputs": [
    {
     "data": {
      "text/plain": [
       "(tensor([[ 0.4335,  0.4380, -0.7505]], device='cuda:0', grad_fn=<AddmmBackward>),\n",
       " tensor([[0.2784]], device='cuda:0', grad_fn=<AddmmBackward>),\n",
       " tensor([[ 0.7484, -0.3637, -0.3547]], device='cuda:0', grad_fn=<AddmmBackward>))"
      ]
     },
     "execution_count": 26,
     "metadata": {},
     "output_type": "execute_result"
    }
   ],
   "source": [
    "net(torch.Tensor(trainset[0]['image']).unsqueeze(0).to(device))"
   ]
  }
 ],
 "metadata": {
  "kernelspec": {
   "display_name": "Python 3 (ipykernel)",
   "language": "python",
   "name": "python3"
  },
  "language_info": {
   "codemirror_mode": {
    "name": "ipython",
    "version": 3
   },
   "file_extension": ".py",
   "mimetype": "text/x-python",
   "name": "python",
   "nbconvert_exporter": "python",
   "pygments_lexer": "ipython3",
   "version": "3.8.5"
  }
 },
 "nbformat": 4,
 "nbformat_minor": 5
}
