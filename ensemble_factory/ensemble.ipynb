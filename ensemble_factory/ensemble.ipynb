{
 "cells": [
  {
   "cell_type": "code",
   "execution_count": 1,
   "metadata": {},
   "outputs": [],
   "source": []
  },
  {
   "cell_type": "code",
   "execution_count": 1,
   "metadata": {
    "pycharm": {
     "name": "#%%\n"
    }
   },
   "outputs": [],
   "source": [
    "import os\n",
    "from glob import glob\n",
    "import pandas as pd\n",
    "import numpy as np\n",
    "\n",
    "import time\n"
   ]
  },
  {
   "cell_type": "code",
   "execution_count": 2,
   "metadata": {
    "pycharm": {
     "name": "#%%\n"
    }
   },
   "outputs": [],
   "source": [
    "def hard_voting_18classes(del_file=False):\n",
    "    pre_result_dir = './forEnsemble/'\n",
    "    done_result_dir = './doneEnsemble/'\n",
    "    pre_result_list = os.listdir(pre_result_dir)\n",
    "    count_done = len(os.listdir(done_result_dir))\n",
    "    save_path = done_result_dir+str(count_done)+'/'\n",
    "    os.mkdir(save_path)\n",
    "    f = open(f'{save_path}readme.txt','w')\n",
    "    result_df = None\n",
    "    for i,file_name in enumerate(pre_result_list):\n",
    "        f.write(file_name+'\\n')\n",
    "        if i==0:\n",
    "            result_df = pd.read_csv(pre_result_dir+file_name,index_col='ImageID')\n",
    "        else:\n",
    "            tmp_df = pd.read_csv(pre_result_dir+file_name,index_col='ImageID')\n",
    "            result_df = pd.merge(result_df,tmp_df,left_index=True,right_index=True)\n",
    "    result_df['ans'] = 0\n",
    "    idxs = result_df.index\n",
    "    for idx in idxs:\n",
    "        val = int(result_df.loc[idx].value_counts().idxmax())\n",
    "        result_df.loc[idx,'ans'] =val\n",
    "    result_df['ans'].to_csv(save_path+'submission'+'.csv')\n",
    "    f.close()\n",
    "    if del_file:\n",
    "        for file_name in pre_result_list:\n",
    "            os.remove(pre_result_dir+file_name)"
   ]
  },
  {
   "cell_type": "code",
   "execution_count": 62,
   "metadata": {},
   "outputs": [],
   "source": [
    "def hard_voting_322classes(del_file=False):\n",
    "    pre_result_dir = './forEnsemble/'\n",
    "    done_result_dir = './doneEnsemble/'\n",
    "    pre_result_list = os.listdir(pre_result_dir)\n",
    "    count_done = len(os.listdir(done_result_dir))\n",
    "\n",
    "    mask_df = None\n",
    "    gender_df = None\n",
    "    age_df = None\n",
    "    for i,file_name in enumerate(pre_result_list):\n",
    "        if i==0:\n",
    "            result_df = pd.read_csv(pre_result_dir+file_name,index_col='ImageID')\n",
    "            tmp_df = pd.read_csv(pre_result_dir+file_name,index_col='ImageID')\n",
    "            mask_df = tmp_df.loc[:,['mask']]\n",
    "            gender_df = tmp_df.loc[:,['gender']]\n",
    "            age_df = tmp_df.loc[:,['age']]\n",
    "        else:\n",
    "            tmp_df = pd.read_csv(pre_result_dir+file_name,index_col='ImageID')\n",
    "\n",
    "            mask_df = pd.merge(mask_df,tmp_df['mask'],left_index=True,right_index=True)\n",
    "            gender_df = pd.merge(gender_df,tmp_df['gender'],left_index=True,right_index=True)\n",
    "            age_df = pd.merge(age_df,tmp_df['age'],left_index=True,right_index=True)\n",
    "    result_df['ans'] = 0\n",
    "    result_df = result_df.drop(['mask','gender','age'],axis=1)\n",
    "    idxs = result_df.index\n",
    "    for idx in idxs:\n",
    "        mask_val = int(mask_df.loc[idx].value_counts().idxmax())\n",
    "        gender_val = int(gender_df.loc[idx].value_counts().idxmax())\n",
    "        age_val = int(age_df.loc[idx].value_counts().idxmax())\n",
    "        result_df.loc[idx,'ans'] =6 * mask_val + 3 * gender_val + age_val\n",
    "        # print(mask_val,gender_val,age_val,6 * mask_val + 3 * gender_val + age_val)\n",
    "    save_path = done_result_dir+str(count_done)+'/'\n",
    "    os.mkdir(save_path)\n",
    "    result_df['ans'].to_csv(save_path+'submission'+'.csv')\n",
    "    \n",
    "    f = open(f'{save_path}readme.txt','w')\n",
    "    for i,file_name in enumerate(pre_result_list):\n",
    "        f.write(file_name+'\\n')\n",
    "    f.close()\n",
    "    if del_file:\n",
    "        for file_name in pre_result_list:\n",
    "            os.remove(pre_result_dir+file_name)"
   ]
  },
  {
   "cell_type": "code",
   "execution_count": 63,
   "metadata": {},
   "outputs": [],
   "source": [
    "hard_voting_322classes(False)"
   ]
  },
  {
   "cell_type": "code",
   "execution_count": 12,
   "metadata": {},
   "outputs": [],
   "source": [
    "hard_voting_18classes(True)\n"
   ]
  }
 ],
 "metadata": {
  "kernelspec": {
   "display_name": "base",
   "language": "python",
   "name": "python3"
  },
  "language_info": {
   "codemirror_mode": {
    "name": "ipython",
    "version": 3
   },
   "file_extension": ".py",
   "mimetype": "text/x-python",
   "name": "python",
   "nbconvert_exporter": "python",
   "pygments_lexer": "ipython3",
   "version": "3.8.5"
  },
  "orig_nbformat": 4
 },
 "nbformat": 4,
 "nbformat_minor": 2
}
