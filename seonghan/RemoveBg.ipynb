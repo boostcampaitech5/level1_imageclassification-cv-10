{
 "cells": [
  {
   "cell_type": "code",
   "execution_count": null,
   "metadata": {},
   "outputs": [],
   "source": [
    "!pip install rembg # python: >3.7, <3.11"
   ]
  },
  {
   "cell_type": "code",
   "execution_count": null,
   "metadata": {},
   "outputs": [],
   "source": [
    "# rembg 패키지에서 remove 클래스 불러오기\n",
    "from rembg import remove \n",
    "\n",
    "# PIL 패키지에서 Image 클래스 불러오기\n",
    "import pandas as pd \n",
    "import os\n",
    "import albumentations as A\n",
    "import cv2\n",
    "from PIL import Image\n",
    "import numpy as np\n",
    "import matplotlib.pyplot as plt"
   ]
  },
  {
   "cell_type": "code",
   "execution_count": null,
   "metadata": {},
   "outputs": [],
   "source": [
    "df = pd.read_csv(\"/content/drive/MyDrive/data/train/train.csv\")"
   ]
  },
  {
   "cell_type": "code",
   "execution_count": null,
   "metadata": {},
   "outputs": [],
   "source": [
    "def AgePath(want_age:list, train_images_path:str, train_csv:pd.DataFrame):\n",
    "    # img_dir = f\"/content/drive/MyDrive/data/train/images\" \n",
    "    img_paths = []\n",
    "    for wa in want_age:\n",
    "    # path : 000001_female_Asian_45\n",
    "        for path in df.path:\n",
    "            age = path.split(\"_\")[-1]\n",
    "            if int(age) == wa:\n",
    "                img_paths.append(os.path.join(train_images_path, path))\n",
    "    return img_paths\n",
    "\n",
    "\n",
    "def CreateDirectory(path:str):\n",
    "    try:\n",
    "        os.makedirs(path)\n",
    "        print(f\"Directory created at {path}\")\n",
    "    except FileExistsError:\n",
    "        print(f\"Directory already exists at {path}\")"
   ]
  },
  {
   "cell_type": "code",
   "execution_count": null,
   "metadata": {},
   "outputs": [],
   "source": [
    "# 확장자 변경 ㅅㅂ\n",
    "import os\n",
    "\n",
    "for image_path in image_paths:\n",
    "    for state in os.listdir(image_path):\n",
    "        if state.endswith(\".jpg\") or state.endswith(\".JPG\"):\n",
    "            continue\n",
    "        else:\n",
    "            want, ext = os.path.splitext(state)\n",
    "            os.rename(os.path.join(image_path, state), os.path.join(image_path, f\"{want}.jpg\"))"
   ]
  },
  {
   "cell_type": "code",
   "execution_count": null,
   "metadata": {},
   "outputs": [],
   "source": [
    "def RemoveBg(img_paths:list, save_dir:str):\n",
    "\n",
    "    # 겹치지 않는 새로운 번호\n",
    "    new_id = 10000 \n",
    "    # 최상위 Dir 생성\n",
    "    # save_dir = 'data/img_aug' ,  '~/{name}'\n",
    "    CreateDirectory(save_dir)\n",
    "    print(len(img_paths))\n",
    "    for img_path in img_paths:\n",
    "        # img_path : data/train/images/000006_female_Asian_59\n",
    "        # print(img_path)\n",
    "        image_id, gender, race, age = img_path.split(\"/\")[-1].split(\"_\")\n",
    "        # 각 이미지를 담은 dir 생성\n",
    "        save_img_dir = os.path.join(save_dir,f\"{new_id:06}_{gender}_{race}_{age}\")\n",
    "        CreateDirectory(save_img_dir)\n",
    "        # 변형\n",
    "        # state : normal. jpg,ppm, bmp 등...\n",
    "        for state in os.listdir(img_path):\n",
    "            image =  os.path.join(img_path, state) \n",
    "            image = Image.open(image)\n",
    "            # image = np.array(pillow_image)\n",
    "            image_rembg = remove(image)\n",
    "            # image = cv2.cvtColor(image_rembg, cv2.COLOR_BGR2RGB)\n",
    "            # 저장 img file\n",
    "            save_img_file = os.path.join(save_dir,f\"{new_id:06}_{gender}_{race}_{age}\",state)\n",
    "            # cv2.imwrite(save_img_file, image)\n",
    "            image_rembg.save(save_img_file, format=\"PNG\")\n",
    "        new_id += 1\n",
    "    return \"종료\""
   ]
  }
 ],
 "metadata": {
  "kernelspec": {
   "display_name": "Python 3",
   "language": "python",
   "name": "python3"
  },
  "language_info": {
   "name": "python",
   "version": "3.11.2"
  },
  "orig_nbformat": 4
 },
 "nbformat": 4,
 "nbformat_minor": 2
}
